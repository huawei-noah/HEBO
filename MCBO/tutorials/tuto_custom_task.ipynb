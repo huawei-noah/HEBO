{
 "cells": [
  {
   "cell_type": "code",
   "execution_count": 1,
   "id": "a30340d7-f7b9-40a2-8914-418fd252ece2",
   "metadata": {
    "ExecuteTime": {
     "end_time": "2024-02-25T22:13:00.395213400Z",
     "start_time": "2024-02-25T22:12:59.927370Z"
    }
   },
   "outputs": [],
   "source": [
    "%load_ext autoreload\n",
    "%autoreload 2\n",
    "\n",
    "import sys, os, shutil\n",
    "ROOT_PROJECT =  os.path.join(os.path.normpath(os.path.join(os.getcwd(), \"../\")))\n",
    "sys.path[0] = ROOT_PROJECT\n",
    "\n",
    "import matplotlib\n",
    "from matplotlib import colors, colorbar\n",
    "from matplotlib import cm\n",
    "import matplotlib.pyplot as plt\n",
    "\n",
    "from IPython.display import set_matplotlib_formats, clear_output\n",
    "\n",
    "import matplotlib_inline.backend_inline\n",
    "ipython_format = \"retina\"\n",
    "if isinstance(ipython_format, str):\n",
    "    ipython_format = [ipython_format]\n",
    "matplotlib_inline.backend_inline.set_matplotlib_formats(*ipython_format)\n",
    "\n",
    "# plt.style.use('seaborn-whitegrid')\n",
    "plt.style.use('science')\n",
    "plt.rcParams['figure.figsize'] = (12.0, 7.0)\n",
    "\n",
    "from tqdm import tqdm"
   ]
  },
  {
   "cell_type": "code",
   "execution_count": 2,
   "id": "52f2643d-3a59-4399-9440-b2d5f1c07ff8",
   "metadata": {
    "ExecuteTime": {
     "end_time": "2024-02-25T22:13:01.079772800Z",
     "start_time": "2024-02-25T22:13:01.045763400Z"
    }
   },
   "outputs": [],
   "source": [
    "plt.plot()\n",
    "plt.close()"
   ]
  },
  {
   "cell_type": "code",
   "execution_count": 3,
   "id": "77e27462-7226-4c29-a567-02cb91b4c52a",
   "metadata": {
    "ExecuteTime": {
     "end_time": "2024-02-25T22:13:04.740583200Z",
     "start_time": "2024-02-25T22:13:02.280540Z"
    }
   },
   "outputs": [],
   "source": [
    "from mcbo.utils.general_plot_utils import plot_curves_with_ranked_legends\n",
    "from mcbo.utils.general_utils import get_cummin"
   ]
  },
  {
   "cell_type": "markdown",
   "id": "09dcb616-a193-4085-8eb3-70723d0345e2",
   "metadata": {},
   "source": [
    "## Custom black-box optimization\n",
    "\n",
    "$f(x)$ defined on a mixed space.\n",
    "The first 3 elements of the search space (named $\\text{op0}$, $\\text{op1}$, $\\text{op2}$) are categorical, with categories being the\n",
    "operators cosinus, sinus, tan, identity, and exponential, and the 3 last elements are numerical elements ($\\text{x0}$, $\\text{x1}$, $\\text{x2}$) taking\n",
    "values in interval [-1, 1], and the objective function is \n",
    "$$f(x) = \\text{op0}(\\text{x0}) / (1 + \\text{op1}(\\text{x1})) +\n",
    "\\text{op2}(\\text{op2})$$\n",
    "Additionally we consider the following validity constraint on the search space: $\\text{op1} \\neq \\text{op2}$"
   ]
  },
  {
   "cell_type": "markdown",
   "id": "d619e897-6f22-450b-8c54-73fba913ce0e",
   "metadata": {},
   "source": [
    "##### Task definition"
   ]
  },
  {
   "cell_type": "code",
   "execution_count": 4,
   "id": "a35da67f-68fe-46ba-8365-88bd738db1b3",
   "metadata": {
    "ExecuteTime": {
     "end_time": "2024-02-25T22:13:13.949723200Z",
     "start_time": "2024-02-25T22:13:13.899586700Z"
    }
   },
   "outputs": [],
   "source": [
    "import pandas as pd\n",
    "import numpy as np\n",
    "from typing import List, Dict, Any, Optional, Callable\n",
    "from mcbo.tasks.task_base import TaskBase\n",
    "from mcbo.optimizers.bo_builder import BoBuilder\n",
    "from mcbo.optimizers.non_bo.genetic_algorithm import GeneticAlgorithm\n",
    "\n",
    "class CustomTask(TaskBase):\n",
    "    op_converter = {'cos': np.cos, 'sin': np.sin, 'exp': np.exp, 'tan': np.tan, 'id': lambda x: x}\n",
    "\n",
    "    @property\n",
    "    def name(self) -> str:\n",
    "        return 'Custom Task'\n",
    "\n",
    "    def evaluate(self, x: pd.DataFrame) -> np.ndarray:\n",
    "        y = np.zeros((len(x), 1))  # will be filled with evaluations\n",
    "        for ind in range(len(x)):\n",
    "            x_ind = x.iloc[ind].to_dict()  # convert to a dictionary\n",
    "            ops = [self.op_converter[x_ind[f'op{j}']] for j in range(3)]\n",
    "            y[ind] = ops[0](x_ind['x0']) / (1 + ops[1](x_ind['x1'])) + ops[2](x_ind['x2'])\n",
    "        return y\n",
    "\n",
    "    def get_search_space_params(self) -> List[Dict[str, Any]]:\n",
    "        params = [{'name': f'op{i}', 'type': 'nominal', 'categories': ['cos', 'sin', 'exp', 'tan', 'id']} for i in range(3)]\n",
    "        params.extend([{'name': f'x{i}', 'type': 'num', 'lb': -1, 'ub': 1} for i in range(3)])\n",
    "        return params\n",
    "\n",
    "    @property\n",
    "    def input_constraints(self) -> Optional[List[Callable[[Dict], bool]]]:\n",
    "        def check(x: Dict) -> bool:\n",
    "            return x[\"op1\"] != x[\"op2\"]\n",
    "        return [check]\n",
    "\n",
    "\n",
    "task = CustomTask()\n",
    "search_space = task.get_search_space()\n",
    "input_constraints = task.input_constraints"
   ]
  },
  {
   "cell_type": "markdown",
   "id": "f08e1b2c-501c-4c7a-a2d4-df526a7bdc96",
   "metadata": {},
   "source": [
    "##### Optimizer creation"
   ]
  },
  {
   "cell_type": "code",
   "execution_count": 6,
   "id": "72ed3a54-8eef-4f17-9fce-188e01791cd1",
   "metadata": {
    "ExecuteTime": {
     "end_time": "2024-02-25T22:13:38.343865500Z",
     "start_time": "2024-02-25T22:13:38.293820400Z"
    }
   },
   "outputs": [],
   "source": [
    "# ---> Could use a BO optimizer\n",
    "# bo_builder = BoBuilder(model_id='gp_to', acq_opt_id='is', acq_func_id='ei', tr_id='basic') # Corresponds to Casmopolitan\n",
    "# opt = bo_builder.build_bo(search_space=task.get_search_space(), n_init=20)\n",
    "\n",
    "# ---> But it will be faster to run this tuto with cheap optimizer such as GA\n",
    "opt = GeneticAlgorithm(\n",
    "    search_space=search_space,\n",
    "    input_constraints=input_constraints,\n",
    "    obj_dims=[0],\n",
    "    out_constr_dims=None,\n",
    "    out_upper_constr_vals=None\n",
    ")"
   ]
  },
  {
   "cell_type": "markdown",
   "id": "63f4fdfd-649a-4708-8ed0-73dfa8ba9b4c",
   "metadata": {},
   "source": [
    "##### Optimization loop"
   ]
  },
  {
   "cell_type": "code",
   "execution_count": 7,
   "id": "5c047f9a-11ad-4d2e-8e96-0acc98e3d22f",
   "metadata": {
    "ExecuteTime": {
     "end_time": "2024-02-25T22:13:46.956873800Z",
     "start_time": "2024-02-25T22:13:44.953942500Z"
    }
   },
   "outputs": [
    {
     "name": "stderr",
     "output_type": "stream",
     "text": [
      "100%|██████████| 200/200 [00:01<00:00, 104.24it/s]"
     ]
    },
    {
     "name": "stdout",
     "output_type": "stream",
     "text": [
      "   op0  op1  op2        x0        x1        x2\n",
      "0  sin  exp  tan -0.940069 -0.164963 -0.999964 -1.9943133123553671\n"
     ]
    },
    {
     "name": "stderr",
     "output_type": "stream",
     "text": [
      "\n"
     ]
    }
   ],
   "source": [
    "budget_eval = 200\n",
    "\n",
    "for _ in tqdm(range(budget_eval)):\n",
    "    x_next = opt.suggest()\n",
    "    y_next = task(x_next)\n",
    "    opt.observe(x_next, y_next)\n",
    "print(opt.best_x, opt.best_y)"
   ]
  },
  {
   "cell_type": "markdown",
   "id": "e7035536-a0a7-4e70-9488-fe1c89aaca74",
   "metadata": {},
   "source": [
    "##### Get all evaluated points and correponding black-box  value"
   ]
  },
  {
   "cell_type": "code",
   "execution_count": 8,
   "id": "dad794b9-d148-4940-bf59-cdff3517d2da",
   "metadata": {
    "ExecuteTime": {
     "end_time": "2024-02-25T22:13:51.482417900Z",
     "start_time": "2024-02-25T22:13:51.412230Z"
    }
   },
   "outputs": [
    {
     "data": {
      "text/plain": "   op0  op1  op2        x0        x1        x2\n0  tan   id  sin  0.552696 -0.701172  0.244846\n1  cos  cos  tan  0.159206  0.027128  0.294345\n2   id   id  sin -0.653859  0.127672 -0.760739\n3  exp  tan  exp -0.677571  0.951893 -0.309958\n4  sin  cos  exp  0.619449  0.033836  0.366998",
      "text/html": "<div>\n<style scoped>\n    .dataframe tbody tr th:only-of-type {\n        vertical-align: middle;\n    }\n\n    .dataframe tbody tr th {\n        vertical-align: top;\n    }\n\n    .dataframe thead th {\n        text-align: right;\n    }\n</style>\n<table border=\"1\" class=\"dataframe\">\n  <thead>\n    <tr style=\"text-align: right;\">\n      <th></th>\n      <th>op0</th>\n      <th>op1</th>\n      <th>op2</th>\n      <th>x0</th>\n      <th>x1</th>\n      <th>x2</th>\n    </tr>\n  </thead>\n  <tbody>\n    <tr>\n      <th>0</th>\n      <td>tan</td>\n      <td>id</td>\n      <td>sin</td>\n      <td>0.552696</td>\n      <td>-0.701172</td>\n      <td>0.244846</td>\n    </tr>\n    <tr>\n      <th>1</th>\n      <td>cos</td>\n      <td>cos</td>\n      <td>tan</td>\n      <td>0.159206</td>\n      <td>0.027128</td>\n      <td>0.294345</td>\n    </tr>\n    <tr>\n      <th>2</th>\n      <td>id</td>\n      <td>id</td>\n      <td>sin</td>\n      <td>-0.653859</td>\n      <td>0.127672</td>\n      <td>-0.760739</td>\n    </tr>\n    <tr>\n      <th>3</th>\n      <td>exp</td>\n      <td>tan</td>\n      <td>exp</td>\n      <td>-0.677571</td>\n      <td>0.951893</td>\n      <td>-0.309958</td>\n    </tr>\n    <tr>\n      <th>4</th>\n      <td>sin</td>\n      <td>cos</td>\n      <td>exp</td>\n      <td>0.619449</td>\n      <td>0.033836</td>\n      <td>0.366998</td>\n    </tr>\n  </tbody>\n</table>\n</div>"
     },
     "execution_count": 8,
     "metadata": {},
     "output_type": "execute_result"
    }
   ],
   "source": [
    "search_space.inverse_transform(opt.data_buffer.x).head()"
   ]
  },
  {
   "cell_type": "code",
   "execution_count": 9,
   "id": "da089b62-5b7d-48d5-b4ee-332edf7bbda0",
   "metadata": {
    "ExecuteTime": {
     "end_time": "2024-02-25T22:13:53.322048Z",
     "start_time": "2024-02-25T22:13:53.279047300Z"
    }
   },
   "outputs": [
    {
     "data": {
      "text/plain": "array([[ 2.30653698],\n       [ 0.7969188 ],\n       [-1.2692879 ],\n       [ 0.94473007],\n       [ 1.73377101]])"
     },
     "execution_count": 9,
     "metadata": {},
     "output_type": "execute_result"
    }
   ],
   "source": [
    "y = opt.data_buffer.y.numpy()\n",
    "y[:5]"
   ]
  },
  {
   "cell_type": "code",
   "execution_count": 10,
   "id": "f1489e6a-1b87-43ff-a8c2-bddd49ac1763",
   "metadata": {
    "ExecuteTime": {
     "end_time": "2024-02-25T22:13:56.563604300Z",
     "start_time": "2024-02-25T22:13:55.841743800Z"
    }
   },
   "outputs": [
    {
     "data": {
      "text/plain": "<Figure size 504x360 with 1 Axes>",
      "image/png": "[encoded data removed]"
     },
     "metadata": {
      "image/png": {
       "width": 490,
       "height": 345
      },
      "needs_background": "light"
     },
     "output_type": "display_data"
    }
   ],
   "source": [
    "fig, ax = plt.subplots(figsize=(7, 5))\n",
    "\n",
    "# Get cumulative minimum\n",
    "regret_y = np.array(get_cummin(y.T))\n",
    "\n",
    "plot_curves_with_ranked_legends(ax=ax, data_y={opt.name: regret_y}, data_x=np.arange(1, 1 + budget_eval))\n",
    "\n",
    "ax.set_title(f\"Custom black-box optimization\", fontsize=20)\n",
    "\n",
    "ax.tick_params(axis='both', which='major', labelsize=16)\n",
    "ax.set_xlabel(\"Number of iterations\", fontsize=22)\n",
    "plt.tight_layout()\n",
    "plt.show()"
   ]
  },
  {
   "cell_type": "code",
   "execution_count": null,
   "id": "8c9d1dc3-2bd8-46d9-a65d-813cd479a139",
   "metadata": {},
   "outputs": [],
   "source": []
  }
 ],
 "metadata": {
  "kernelspec": {
   "display_name": "comb_opt",
   "language": "python",
   "name": "comb_opt"
  },
  "language_info": {
   "codemirror_mode": {
    "name": "ipython",
    "version": 3
   },
   "file_extension": ".py",
   "mimetype": "text/x-python",
   "name": "python",
   "nbconvert_exporter": "python",
   "pygments_lexer": "ipython3",
   "version": "3.8.5"
  }
 },
 "nbformat": 4,
 "nbformat_minor": 5
}
