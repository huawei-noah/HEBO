{
 "metadata": {
  "kernelspec": {
   "language": "python",
   "display_name": "Python 3",
   "name": "python3"
  },
  "language_info": {
   "name": "python",
   "version": "3.7.6",
   "mimetype": "text/x-python",
   "codemirror_mode": {
    "name": "ipython",
    "version": 3
   },
   "pygments_lexer": "ipython3",
   "nbconvert_exporter": "python",
   "file_extension": ".py"
  },
  "kaggle": {
   "accelerator": "none",
   "dataSources": [
    {
     "sourceId": 3887,
     "databundleVersionId": 32350,
     "sourceType": "competition"
    }
   ],
   "dockerImageVersionId": 29985,
   "isInternetEnabled": true,
   "language": "python",
   "sourceType": "notebook",
   "isGpuEnabled": false
  }
 },
 "nbformat_minor": 4,
 "nbformat": 4,
 "cells": [
  {
   "cell_type": "code",
   "source": [
    "import numpy as np\n",
    "import matplotlib.pyplot as plt\n",
    "import pandas as pd\n",
    "import seaborn as sns\n",
    "%matplotlib inline\n"
   ],
   "metadata": {
    "scrolled": true,
    "execution": {
     "iopub.status.busy": "2024-06-17T08:52:02.821059Z",
     "iopub.execute_input": "2024-06-17T08:52:02.821473Z",
     "iopub.status.idle": "2024-06-17T08:52:03.943676Z",
     "shell.execute_reply.started": "2024-06-17T08:52:02.821436Z",
     "shell.execute_reply": "2024-06-17T08:52:03.942289Z"
    },
    "trusted": true
   },
   "execution_count": 2,
   "outputs": []
  },
  {
   "cell_type": "code",
   "source": [
    "train_data = pd.read_csv('../input/higgs-boson/training.zip')\n",
    "test_data = pd.read_csv('../input/higgs-boson/test.zip')"
   ],
   "metadata": {
    "scrolled": true,
    "execution": {
     "iopub.status.busy": "2024-06-17T08:52:03.946504Z",
     "iopub.execute_input": "2024-06-17T08:52:03.947061Z",
     "iopub.status.idle": "2024-06-17T08:52:10.435201Z",
     "shell.execute_reply.started": "2024-06-17T08:52:03.946994Z",
     "shell.execute_reply": "2024-06-17T08:52:10.434175Z"
    },
    "trusted": true
   },
   "execution_count": 3,
   "outputs": []
  },
  {
   "cell_type": "code",
   "source": [
    "train_data.head()"
   ],
   "metadata": {
    "scrolled": true,
    "execution": {
     "iopub.status.busy": "2024-06-17T08:52:10.437093Z",
     "iopub.execute_input": "2024-06-17T08:52:10.437435Z",
     "iopub.status.idle": "2024-06-17T08:52:10.482655Z",
     "shell.execute_reply.started": "2024-06-17T08:52:10.437402Z",
     "shell.execute_reply": "2024-06-17T08:52:10.481487Z"
    },
    "trusted": true
   },
   "execution_count": 4,
   "outputs": [
    {
     "execution_count": 4,
     "output_type": "execute_result",
     "data": {
      "text/plain": "   EventId  DER_mass_MMC  DER_mass_transverse_met_lep  DER_mass_vis  DER_pt_h  \\\n0   100000       138.470                       51.655        97.827    27.980   \n1   100001       160.937                       68.768       103.235    48.146   \n2   100002      -999.000                      162.172       125.953    35.635   \n3   100003       143.905                       81.417        80.943     0.414   \n4   100004       175.864                       16.915       134.805    16.405   \n\n   DER_deltaeta_jet_jet  DER_mass_jet_jet  DER_prodeta_jet_jet  \\\n0                  0.91           124.711                2.666   \n1               -999.00          -999.000             -999.000   \n2               -999.00          -999.000             -999.000   \n3               -999.00          -999.000             -999.000   \n4               -999.00          -999.000             -999.000   \n\n   DER_deltar_tau_lep  DER_pt_tot  ...  PRI_jet_num  PRI_jet_leading_pt  \\\n0               3.064      41.928  ...            2              67.435   \n1               3.473       2.078  ...            1              46.226   \n2               3.148       9.336  ...            1              44.251   \n3               3.310       0.414  ...            0            -999.000   \n4               3.891      16.405  ...            0            -999.000   \n\n   PRI_jet_leading_eta  PRI_jet_leading_phi  PRI_jet_subleading_pt  \\\n0                2.150                0.444                 46.062   \n1                0.725                1.158               -999.000   \n2                2.053               -2.028               -999.000   \n3             -999.000             -999.000               -999.000   \n4             -999.000             -999.000               -999.000   \n\n   PRI_jet_subleading_eta  PRI_jet_subleading_phi  PRI_jet_all_pt    Weight  \\\n0                    1.24                  -2.475         113.497  0.002653   \n1                 -999.00                -999.000          46.226  2.233584   \n2                 -999.00                -999.000          44.251  2.347389   \n3                 -999.00                -999.000          -0.000  5.446378   \n4                 -999.00                -999.000           0.000  6.245333   \n\n   Label  \n0      s  \n1      b  \n2      b  \n3      b  \n4      b  \n\n[5 rows x 33 columns]",
      "text/html": "<div>\n<style scoped>\n    .dataframe tbody tr th:only-of-type {\n        vertical-align: middle;\n    }\n\n    .dataframe tbody tr th {\n        vertical-align: top;\n    }\n\n    .dataframe thead th {\n        text-align: right;\n    }\n</style>\n<table border=\"1\" class=\"dataframe\">\n  <thead>\n    <tr style=\"text-align: right;\">\n      <th></th>\n      <th>EventId</th>\n      <th>DER_mass_MMC</th>\n      <th>DER_mass_transverse_met_lep</th>\n      <th>DER_mass_vis</th>\n      <th>DER_pt_h</th>\n      <th>DER_deltaeta_jet_jet</th>\n      <th>DER_mass_jet_jet</th>\n      <th>DER_prodeta_jet_jet</th>\n      <th>DER_deltar_tau_lep</th>\n      <th>DER_pt_tot</th>\n      <th>...</th>\n      <th>PRI_jet_num</th>\n      <th>PRI_jet_leading_pt</th>\n      <th>PRI_jet_leading_eta</th>\n      <th>PRI_jet_leading_phi</th>\n      <th>PRI_jet_subleading_pt</th>\n      <th>PRI_jet_subleading_eta</th>\n      <th>PRI_jet_subleading_phi</th>\n      <th>PRI_jet_all_pt</th>\n      <th>Weight</th>\n      <th>Label</th>\n    </tr>\n  </thead>\n  <tbody>\n    <tr>\n      <th>0</th>\n      <td>100000</td>\n      <td>138.470</td>\n      <td>51.655</td>\n      <td>97.827</td>\n      <td>27.980</td>\n      <td>0.91</td>\n      <td>124.711</td>\n      <td>2.666</td>\n      <td>3.064</td>\n      <td>41.928</td>\n      <td>...</td>\n      <td>2</td>\n      <td>67.435</td>\n      <td>2.150</td>\n      <td>0.444</td>\n      <td>46.062</td>\n      <td>1.24</td>\n      <td>-2.475</td>\n      <td>113.497</td>\n      <td>0.002653</td>\n      <td>s</td>\n    </tr>\n    <tr>\n      <th>1</th>\n      <td>100001</td>\n      <td>160.937</td>\n      <td>68.768</td>\n      <td>103.235</td>\n      <td>48.146</td>\n      <td>-999.00</td>\n      <td>-999.000</td>\n      <td>-999.000</td>\n      <td>3.473</td>\n      <td>2.078</td>\n      <td>...</td>\n      <td>1</td>\n      <td>46.226</td>\n      <td>0.725</td>\n      <td>1.158</td>\n      <td>-999.000</td>\n      <td>-999.00</td>\n      <td>-999.000</td>\n      <td>46.226</td>\n      <td>2.233584</td>\n      <td>b</td>\n    </tr>\n    <tr>\n      <th>2</th>\n      <td>100002</td>\n      <td>-999.000</td>\n      <td>162.172</td>\n      <td>125.953</td>\n      <td>35.635</td>\n      <td>-999.00</td>\n      <td>-999.000</td>\n      <td>-999.000</td>\n      <td>3.148</td>\n      <td>9.336</td>\n      <td>...</td>\n      <td>1</td>\n      <td>44.251</td>\n      <td>2.053</td>\n      <td>-2.028</td>\n      <td>-999.000</td>\n      <td>-999.00</td>\n      <td>-999.000</td>\n      <td>44.251</td>\n      <td>2.347389</td>\n      <td>b</td>\n    </tr>\n    <tr>\n      <th>3</th>\n      <td>100003</td>\n      <td>143.905</td>\n      <td>81.417</td>\n      <td>80.943</td>\n      <td>0.414</td>\n      <td>-999.00</td>\n      <td>-999.000</td>\n      <td>-999.000</td>\n      <td>3.310</td>\n      <td>0.414</td>\n      <td>...</td>\n      <td>0</td>\n      <td>-999.000</td>\n      <td>-999.000</td>\n      <td>-999.000</td>\n      <td>-999.000</td>\n      <td>-999.00</td>\n      <td>-999.000</td>\n      <td>-0.000</td>\n      <td>5.446378</td>\n      <td>b</td>\n    </tr>\n    <tr>\n      <th>4</th>\n      <td>100004</td>\n      <td>175.864</td>\n      <td>16.915</td>\n      <td>134.805</td>\n      <td>16.405</td>\n      <td>-999.00</td>\n      <td>-999.000</td>\n      <td>-999.000</td>\n      <td>3.891</td>\n      <td>16.405</td>\n      <td>...</td>\n      <td>0</td>\n      <td>-999.000</td>\n      <td>-999.000</td>\n      <td>-999.000</td>\n      <td>-999.000</td>\n      <td>-999.00</td>\n      <td>-999.000</td>\n      <td>0.000</td>\n      <td>6.245333</td>\n      <td>b</td>\n    </tr>\n  </tbody>\n</table>\n<p>5 rows × 33 columns</p>\n</div>"
     },
     "metadata": {}
    }
   ]
  },
  {
   "cell_type": "code",
   "source": [
    "test_data.head()"
   ],
   "metadata": {
    "scrolled": true,
    "execution": {
     "iopub.status.busy": "2024-06-17T08:52:10.484393Z",
     "iopub.execute_input": "2024-06-17T08:52:10.484814Z",
     "iopub.status.idle": "2024-06-17T08:52:10.521901Z",
     "shell.execute_reply.started": "2024-06-17T08:52:10.484776Z",
     "shell.execute_reply": "2024-06-17T08:52:10.520625Z"
    },
    "trusted": true
   },
   "execution_count": 5,
   "outputs": [
    {
     "execution_count": 5,
     "output_type": "execute_result",
     "data": {
      "text/plain": "   EventId  DER_mass_MMC  DER_mass_transverse_met_lep  DER_mass_vis  DER_pt_h  \\\n0   350000      -999.000                       79.589        23.916     3.036   \n1   350001       106.398                       67.490        87.949    49.994   \n2   350002       117.794                       56.226        96.358     4.137   \n3   350003       135.861                       30.604        97.288     9.104   \n4   350004        74.159                       82.772        58.731    89.646   \n\n   DER_deltaeta_jet_jet  DER_mass_jet_jet  DER_prodeta_jet_jet  \\\n0              -999.000          -999.000             -999.000   \n1              -999.000          -999.000             -999.000   \n2              -999.000          -999.000             -999.000   \n3              -999.000          -999.000             -999.000   \n4                 1.347           536.663               -0.339   \n\n   DER_deltar_tau_lep  DER_pt_tot  ...  PRI_met_phi  PRI_met_sumet  \\\n0               0.903       3.036  ...        2.022         98.556   \n1               2.048       2.679  ...       -1.138        176.251   \n2               2.755       4.137  ...       -1.868        111.505   \n3               2.811       9.104  ...        1.172        164.707   \n4               1.028      77.213  ...       -0.231        869.614   \n\n   PRI_jet_num  PRI_jet_leading_pt  PRI_jet_leading_eta  PRI_jet_leading_phi  \\\n0            0            -999.000             -999.000             -999.000   \n1            1              47.575               -0.553               -0.849   \n2            0            -999.000             -999.000             -999.000   \n3            0            -999.000             -999.000             -999.000   \n4            3             254.085               -1.013               -0.334   \n\n   PRI_jet_subleading_pt  PRI_jet_subleading_eta  PRI_jet_subleading_phi  \\\n0               -999.000                -999.000                -999.000   \n1               -999.000                -999.000                -999.000   \n2               -999.000                -999.000                -999.000   \n3               -999.000                -999.000                -999.000   \n4                185.857                   0.335                   2.587   \n\n   PRI_jet_all_pt  \n0          -0.000  \n1          47.575  \n2           0.000  \n3           0.000  \n4         599.213  \n\n[5 rows x 31 columns]",
      "text/html": "<div>\n<style scoped>\n    .dataframe tbody tr th:only-of-type {\n        vertical-align: middle;\n    }\n\n    .dataframe tbody tr th {\n        vertical-align: top;\n    }\n\n    .dataframe thead th {\n        text-align: right;\n    }\n</style>\n<table border=\"1\" class=\"dataframe\">\n  <thead>\n    <tr style=\"text-align: right;\">\n      <th></th>\n      <th>EventId</th>\n      <th>DER_mass_MMC</th>\n      <th>DER_mass_transverse_met_lep</th>\n      <th>DER_mass_vis</th>\n      <th>DER_pt_h</th>\n      <th>DER_deltaeta_jet_jet</th>\n      <th>DER_mass_jet_jet</th>\n      <th>DER_prodeta_jet_jet</th>\n      <th>DER_deltar_tau_lep</th>\n      <th>DER_pt_tot</th>\n      <th>...</th>\n      <th>PRI_met_phi</th>\n      <th>PRI_met_sumet</th>\n      <th>PRI_jet_num</th>\n      <th>PRI_jet_leading_pt</th>\n      <th>PRI_jet_leading_eta</th>\n      <th>PRI_jet_leading_phi</th>\n      <th>PRI_jet_subleading_pt</th>\n      <th>PRI_jet_subleading_eta</th>\n      <th>PRI_jet_subleading_phi</th>\n      <th>PRI_jet_all_pt</th>\n    </tr>\n  </thead>\n  <tbody>\n    <tr>\n      <th>0</th>\n      <td>350000</td>\n      <td>-999.000</td>\n      <td>79.589</td>\n      <td>23.916</td>\n      <td>3.036</td>\n      <td>-999.000</td>\n      <td>-999.000</td>\n      <td>-999.000</td>\n      <td>0.903</td>\n      <td>3.036</td>\n      <td>...</td>\n      <td>2.022</td>\n      <td>98.556</td>\n      <td>0</td>\n      <td>-999.000</td>\n      <td>-999.000</td>\n      <td>-999.000</td>\n      <td>-999.000</td>\n      <td>-999.000</td>\n      <td>-999.000</td>\n      <td>-0.000</td>\n    </tr>\n    <tr>\n      <th>1</th>\n      <td>350001</td>\n      <td>106.398</td>\n      <td>67.490</td>\n      <td>87.949</td>\n      <td>49.994</td>\n      <td>-999.000</td>\n      <td>-999.000</td>\n      <td>-999.000</td>\n      <td>2.048</td>\n      <td>2.679</td>\n      <td>...</td>\n      <td>-1.138</td>\n      <td>176.251</td>\n      <td>1</td>\n      <td>47.575</td>\n      <td>-0.553</td>\n      <td>-0.849</td>\n      <td>-999.000</td>\n      <td>-999.000</td>\n      <td>-999.000</td>\n      <td>47.575</td>\n    </tr>\n    <tr>\n      <th>2</th>\n      <td>350002</td>\n      <td>117.794</td>\n      <td>56.226</td>\n      <td>96.358</td>\n      <td>4.137</td>\n      <td>-999.000</td>\n      <td>-999.000</td>\n      <td>-999.000</td>\n      <td>2.755</td>\n      <td>4.137</td>\n      <td>...</td>\n      <td>-1.868</td>\n      <td>111.505</td>\n      <td>0</td>\n      <td>-999.000</td>\n      <td>-999.000</td>\n      <td>-999.000</td>\n      <td>-999.000</td>\n      <td>-999.000</td>\n      <td>-999.000</td>\n      <td>0.000</td>\n    </tr>\n    <tr>\n      <th>3</th>\n      <td>350003</td>\n      <td>135.861</td>\n      <td>30.604</td>\n      <td>97.288</td>\n      <td>9.104</td>\n      <td>-999.000</td>\n      <td>-999.000</td>\n      <td>-999.000</td>\n      <td>2.811</td>\n      <td>9.104</td>\n      <td>...</td>\n      <td>1.172</td>\n      <td>164.707</td>\n      <td>0</td>\n      <td>-999.000</td>\n      <td>-999.000</td>\n      <td>-999.000</td>\n      <td>-999.000</td>\n      <td>-999.000</td>\n      <td>-999.000</td>\n      <td>0.000</td>\n    </tr>\n    <tr>\n      <th>4</th>\n      <td>350004</td>\n      <td>74.159</td>\n      <td>82.772</td>\n      <td>58.731</td>\n      <td>89.646</td>\n      <td>1.347</td>\n      <td>536.663</td>\n      <td>-0.339</td>\n      <td>1.028</td>\n      <td>77.213</td>\n      <td>...</td>\n      <td>-0.231</td>\n      <td>869.614</td>\n      <td>3</td>\n      <td>254.085</td>\n      <td>-1.013</td>\n      <td>-0.334</td>\n      <td>185.857</td>\n      <td>0.335</td>\n      <td>2.587</td>\n      <td>599.213</td>\n    </tr>\n  </tbody>\n</table>\n<p>5 rows × 31 columns</p>\n</div>"
     },
     "metadata": {}
    }
   ]
  },
  {
   "cell_type": "code",
   "source": [
    "train_data.shape"
   ],
   "metadata": {
    "scrolled": true,
    "execution": {
     "iopub.status.busy": "2024-06-17T08:52:10.524878Z",
     "iopub.execute_input": "2024-06-17T08:52:10.525286Z",
     "iopub.status.idle": "2024-06-17T08:52:10.532195Z",
     "shell.execute_reply.started": "2024-06-17T08:52:10.525245Z",
     "shell.execute_reply": "2024-06-17T08:52:10.531008Z"
    },
    "trusted": true
   },
   "execution_count": 6,
   "outputs": [
    {
     "execution_count": 6,
     "output_type": "execute_result",
     "data": {
      "text/plain": "(250000, 33)"
     },
     "metadata": {}
    }
   ]
  },
  {
   "cell_type": "code",
   "source": [
    "test_data.shape"
   ],
   "metadata": {
    "scrolled": true,
    "execution": {
     "iopub.status.busy": "2024-06-17T08:52:10.534265Z",
     "iopub.execute_input": "2024-06-17T08:52:10.534818Z",
     "iopub.status.idle": "2024-06-17T08:52:10.544537Z",
     "shell.execute_reply.started": "2024-06-17T08:52:10.534763Z",
     "shell.execute_reply": "2024-06-17T08:52:10.543575Z"
    },
    "trusted": true
   },
   "execution_count": 7,
   "outputs": [
    {
     "execution_count": 7,
     "output_type": "execute_result",
     "data": {
      "text/plain": "(550000, 31)"
     },
     "metadata": {}
    }
   ]
  },
  {
   "cell_type": "code",
   "source": [
    "train_data.info()"
   ],
   "metadata": {
    "scrolled": true,
    "execution": {
     "iopub.status.busy": "2024-06-17T08:52:10.546688Z",
     "iopub.execute_input": "2024-06-17T08:52:10.547212Z",
     "iopub.status.idle": "2024-06-17T08:52:10.628418Z",
     "shell.execute_reply.started": "2024-06-17T08:52:10.547158Z",
     "shell.execute_reply": "2024-06-17T08:52:10.627324Z"
    },
    "trusted": true
   },
   "execution_count": 8,
   "outputs": [
    {
     "name": "stdout",
     "text": "<class 'pandas.core.frame.DataFrame'>\nRangeIndex: 250000 entries, 0 to 249999\nData columns (total 33 columns):\n #   Column                       Non-Null Count   Dtype  \n---  ------                       --------------   -----  \n 0   EventId                      250000 non-null  int64  \n 1   DER_mass_MMC                 250000 non-null  float64\n 2   DER_mass_transverse_met_lep  250000 non-null  float64\n 3   DER_mass_vis                 250000 non-null  float64\n 4   DER_pt_h                     250000 non-null  float64\n 5   DER_deltaeta_jet_jet         250000 non-null  float64\n 6   DER_mass_jet_jet             250000 non-null  float64\n 7   DER_prodeta_jet_jet          250000 non-null  float64\n 8   DER_deltar_tau_lep           250000 non-null  float64\n 9   DER_pt_tot                   250000 non-null  float64\n 10  DER_sum_pt                   250000 non-null  float64\n 11  DER_pt_ratio_lep_tau         250000 non-null  float64\n 12  DER_met_phi_centrality       250000 non-null  float64\n 13  DER_lep_eta_centrality       250000 non-null  float64\n 14  PRI_tau_pt                   250000 non-null  float64\n 15  PRI_tau_eta                  250000 non-null  float64\n 16  PRI_tau_phi                  250000 non-null  float64\n 17  PRI_lep_pt                   250000 non-null  float64\n 18  PRI_lep_eta                  250000 non-null  float64\n 19  PRI_lep_phi                  250000 non-null  float64\n 20  PRI_met                      250000 non-null  float64\n 21  PRI_met_phi                  250000 non-null  float64\n 22  PRI_met_sumet                250000 non-null  float64\n 23  PRI_jet_num                  250000 non-null  int64  \n 24  PRI_jet_leading_pt           250000 non-null  float64\n 25  PRI_jet_leading_eta          250000 non-null  float64\n 26  PRI_jet_leading_phi          250000 non-null  float64\n 27  PRI_jet_subleading_pt        250000 non-null  float64\n 28  PRI_jet_subleading_eta       250000 non-null  float64\n 29  PRI_jet_subleading_phi       250000 non-null  float64\n 30  PRI_jet_all_pt               250000 non-null  float64\n 31  Weight                       250000 non-null  float64\n 32  Label                        250000 non-null  object \ndtypes: float64(30), int64(2), object(1)\nmemory usage: 62.9+ MB\n",
     "output_type": "stream"
    }
   ]
  },
  {
   "cell_type": "code",
   "source": [
    "train_data.describe()"
   ],
   "metadata": {
    "scrolled": true,
    "execution": {
     "iopub.status.busy": "2024-06-17T08:52:10.630063Z",
     "iopub.execute_input": "2024-06-17T08:52:10.630539Z",
     "iopub.status.idle": "2024-06-17T08:52:11.077070Z",
     "shell.execute_reply.started": "2024-06-17T08:52:10.630497Z",
     "shell.execute_reply": "2024-06-17T08:52:11.076011Z"
    },
    "trusted": true
   },
   "execution_count": 9,
   "outputs": [
    {
     "execution_count": 9,
     "output_type": "execute_result",
     "data": {
      "text/plain": "             EventId   DER_mass_MMC  DER_mass_transverse_met_lep  \\\ncount  250000.000000  250000.000000                250000.000000   \nmean   224999.500000     -49.023079                    49.239819   \nstd     72168.927986     406.345647                    35.344886   \nmin    100000.000000    -999.000000                     0.000000   \n25%    162499.750000      78.100750                    19.241000   \n50%    224999.500000     105.012000                    46.524000   \n75%    287499.250000     130.606250                    73.598000   \nmax    349999.000000    1192.026000                   690.075000   \n\n        DER_mass_vis       DER_pt_h  DER_deltaeta_jet_jet  DER_mass_jet_jet  \\\ncount  250000.000000  250000.000000         250000.000000     250000.000000   \nmean       81.181982      57.895962           -708.420675       -601.237051   \nstd        40.828691      63.655682            454.480565        657.972302   \nmin         6.329000       0.000000           -999.000000       -999.000000   \n25%        59.388750      14.068750           -999.000000       -999.000000   \n50%        73.752000      38.467500           -999.000000       -999.000000   \n75%        92.259000      79.169000              0.490000         83.446000   \nmax      1349.351000    2834.999000              8.503000       4974.979000   \n\n       DER_prodeta_jet_jet  DER_deltar_tau_lep     DER_pt_tot  ...  \\\ncount        250000.000000       250000.000000  250000.000000  ...   \nmean           -709.356603            2.373100      18.917332  ...   \nstd             453.019877            0.782911      22.273494  ...   \nmin            -999.000000            0.208000       0.000000  ...   \n25%            -999.000000            1.810000       2.841000  ...   \n50%            -999.000000            2.491500      12.315500  ...   \n75%              -4.593000            2.961000      27.591000  ...   \nmax              16.690000            5.684000    2834.999000  ...   \n\n       PRI_met_sumet    PRI_jet_num  PRI_jet_leading_pt  PRI_jet_leading_eta  \\\ncount  250000.000000  250000.000000       250000.000000        250000.000000   \nmean      209.797178       0.979176         -348.329567          -399.254314   \nstd       126.499506       0.977426          532.962789           489.338286   \nmin        13.678000       0.000000         -999.000000          -999.000000   \n25%       123.017500       0.000000         -999.000000          -999.000000   \n50%       179.739000       1.000000           38.960000            -1.872000   \n75%       263.379250       2.000000           75.349000             0.433000   \nmax      2003.976000       3.000000         1120.573000             4.499000   \n\n       PRI_jet_leading_phi  PRI_jet_subleading_pt  PRI_jet_subleading_eta  \\\ncount        250000.000000          250000.000000           250000.000000   \nmean           -399.259788            -692.381204             -709.121609   \nstd             489.333883             479.875496              453.384624   \nmin            -999.000000            -999.000000             -999.000000   \n25%            -999.000000            -999.000000             -999.000000   \n50%              -2.093000            -999.000000             -999.000000   \n75%               0.503000              33.703000               -2.457000   \nmax               3.141000             721.456000                4.500000   \n\n       PRI_jet_subleading_phi  PRI_jet_all_pt         Weight  \ncount           250000.000000   250000.000000  250000.000000  \nmean              -709.118631       73.064591       1.646767  \nstd                453.389017       98.015662       1.875103  \nmin               -999.000000        0.000000       0.001502  \n25%               -999.000000        0.000000       0.018636  \n50%               -999.000000       40.512500       1.156188  \n75%                 -2.275000      109.933750       2.404128  \nmax                  3.142000     1633.433000       7.822543  \n\n[8 rows x 32 columns]",
      "text/html": "<div>\n<style scoped>\n    .dataframe tbody tr th:only-of-type {\n        vertical-align: middle;\n    }\n\n    .dataframe tbody tr th {\n        vertical-align: top;\n    }\n\n    .dataframe thead th {\n        text-align: right;\n    }\n</style>\n<table border=\"1\" class=\"dataframe\">\n  <thead>\n    <tr style=\"text-align: right;\">\n      <th></th>\n      <th>EventId</th>\n      <th>DER_mass_MMC</th>\n      <th>DER_mass_transverse_met_lep</th>\n      <th>DER_mass_vis</th>\n      <th>DER_pt_h</th>\n      <th>DER_deltaeta_jet_jet</th>\n      <th>DER_mass_jet_jet</th>\n      <th>DER_prodeta_jet_jet</th>\n      <th>DER_deltar_tau_lep</th>\n      <th>DER_pt_tot</th>\n      <th>...</th>\n      <th>PRI_met_sumet</th>\n      <th>PRI_jet_num</th>\n      <th>PRI_jet_leading_pt</th>\n      <th>PRI_jet_leading_eta</th>\n      <th>PRI_jet_leading_phi</th>\n      <th>PRI_jet_subleading_pt</th>\n      <th>PRI_jet_subleading_eta</th>\n      <th>PRI_jet_subleading_phi</th>\n      <th>PRI_jet_all_pt</th>\n      <th>Weight</th>\n    </tr>\n  </thead>\n  <tbody>\n    <tr>\n      <th>count</th>\n      <td>250000.000000</td>\n      <td>250000.000000</td>\n      <td>250000.000000</td>\n      <td>250000.000000</td>\n      <td>250000.000000</td>\n      <td>250000.000000</td>\n      <td>250000.000000</td>\n      <td>250000.000000</td>\n      <td>250000.000000</td>\n      <td>250000.000000</td>\n      <td>...</td>\n      <td>250000.000000</td>\n      <td>250000.000000</td>\n      <td>250000.000000</td>\n      <td>250000.000000</td>\n      <td>250000.000000</td>\n      <td>250000.000000</td>\n      <td>250000.000000</td>\n      <td>250000.000000</td>\n      <td>250000.000000</td>\n      <td>250000.000000</td>\n    </tr>\n    <tr>\n      <th>mean</th>\n      <td>224999.500000</td>\n      <td>-49.023079</td>\n      <td>49.239819</td>\n      <td>81.181982</td>\n      <td>57.895962</td>\n      <td>-708.420675</td>\n      <td>-601.237051</td>\n      <td>-709.356603</td>\n      <td>2.373100</td>\n      <td>18.917332</td>\n      <td>...</td>\n      <td>209.797178</td>\n      <td>0.979176</td>\n      <td>-348.329567</td>\n      <td>-399.254314</td>\n      <td>-399.259788</td>\n      <td>-692.381204</td>\n      <td>-709.121609</td>\n      <td>-709.118631</td>\n      <td>73.064591</td>\n      <td>1.646767</td>\n    </tr>\n    <tr>\n      <th>std</th>\n      <td>72168.927986</td>\n      <td>406.345647</td>\n      <td>35.344886</td>\n      <td>40.828691</td>\n      <td>63.655682</td>\n      <td>454.480565</td>\n      <td>657.972302</td>\n      <td>453.019877</td>\n      <td>0.782911</td>\n      <td>22.273494</td>\n      <td>...</td>\n      <td>126.499506</td>\n      <td>0.977426</td>\n      <td>532.962789</td>\n      <td>489.338286</td>\n      <td>489.333883</td>\n      <td>479.875496</td>\n      <td>453.384624</td>\n      <td>453.389017</td>\n      <td>98.015662</td>\n      <td>1.875103</td>\n    </tr>\n    <tr>\n      <th>min</th>\n      <td>100000.000000</td>\n      <td>-999.000000</td>\n      <td>0.000000</td>\n      <td>6.329000</td>\n      <td>0.000000</td>\n      <td>-999.000000</td>\n      <td>-999.000000</td>\n      <td>-999.000000</td>\n      <td>0.208000</td>\n      <td>0.000000</td>\n      <td>...</td>\n      <td>13.678000</td>\n      <td>0.000000</td>\n      <td>-999.000000</td>\n      <td>-999.000000</td>\n      <td>-999.000000</td>\n      <td>-999.000000</td>\n      <td>-999.000000</td>\n      <td>-999.000000</td>\n      <td>0.000000</td>\n      <td>0.001502</td>\n    </tr>\n    <tr>\n      <th>25%</th>\n      <td>162499.750000</td>\n      <td>78.100750</td>\n      <td>19.241000</td>\n      <td>59.388750</td>\n      <td>14.068750</td>\n      <td>-999.000000</td>\n      <td>-999.000000</td>\n      <td>-999.000000</td>\n      <td>1.810000</td>\n      <td>2.841000</td>\n      <td>...</td>\n      <td>123.017500</td>\n      <td>0.000000</td>\n      <td>-999.000000</td>\n      <td>-999.000000</td>\n      <td>-999.000000</td>\n      <td>-999.000000</td>\n      <td>-999.000000</td>\n      <td>-999.000000</td>\n      <td>0.000000</td>\n      <td>0.018636</td>\n    </tr>\n    <tr>\n      <th>50%</th>\n      <td>224999.500000</td>\n      <td>105.012000</td>\n      <td>46.524000</td>\n      <td>73.752000</td>\n      <td>38.467500</td>\n      <td>-999.000000</td>\n      <td>-999.000000</td>\n      <td>-999.000000</td>\n      <td>2.491500</td>\n      <td>12.315500</td>\n      <td>...</td>\n      <td>179.739000</td>\n      <td>1.000000</td>\n      <td>38.960000</td>\n      <td>-1.872000</td>\n      <td>-2.093000</td>\n      <td>-999.000000</td>\n      <td>-999.000000</td>\n      <td>-999.000000</td>\n      <td>40.512500</td>\n      <td>1.156188</td>\n    </tr>\n    <tr>\n      <th>75%</th>\n      <td>287499.250000</td>\n      <td>130.606250</td>\n      <td>73.598000</td>\n      <td>92.259000</td>\n      <td>79.169000</td>\n      <td>0.490000</td>\n      <td>83.446000</td>\n      <td>-4.593000</td>\n      <td>2.961000</td>\n      <td>27.591000</td>\n      <td>...</td>\n      <td>263.379250</td>\n      <td>2.000000</td>\n      <td>75.349000</td>\n      <td>0.433000</td>\n      <td>0.503000</td>\n      <td>33.703000</td>\n      <td>-2.457000</td>\n      <td>-2.275000</td>\n      <td>109.933750</td>\n      <td>2.404128</td>\n    </tr>\n    <tr>\n      <th>max</th>\n      <td>349999.000000</td>\n      <td>1192.026000</td>\n      <td>690.075000</td>\n      <td>1349.351000</td>\n      <td>2834.999000</td>\n      <td>8.503000</td>\n      <td>4974.979000</td>\n      <td>16.690000</td>\n      <td>5.684000</td>\n      <td>2834.999000</td>\n      <td>...</td>\n      <td>2003.976000</td>\n      <td>3.000000</td>\n      <td>1120.573000</td>\n      <td>4.499000</td>\n      <td>3.141000</td>\n      <td>721.456000</td>\n      <td>4.500000</td>\n      <td>3.142000</td>\n      <td>1633.433000</td>\n      <td>7.822543</td>\n    </tr>\n  </tbody>\n</table>\n<p>8 rows × 32 columns</p>\n</div>"
     },
     "metadata": {}
    }
   ]
  },
  {
   "cell_type": "code",
   "source": [
    "# DELETED WEIGHT BEACAUSE IT WAS NOT IN THE TESTING SET SO I DON'T WANT TO TRAIN THE MODEL ON THE TRAINING SET WHICH HAS\n",
    "# AN EXTRA VARIABLE WHICH IS TO BE CONSIDERED BY THE ALGORITHMS"
   ],
   "metadata": {
    "scrolled": true,
    "execution": {
     "iopub.status.busy": "2024-06-17T08:52:18.255294Z",
     "iopub.execute_input": "2024-06-17T08:52:18.255751Z",
     "iopub.status.idle": "2024-06-17T08:52:18.260616Z",
     "shell.execute_reply.started": "2024-06-17T08:52:18.255713Z",
     "shell.execute_reply": "2024-06-17T08:52:18.259349Z"
    },
    "trusted": true
   },
   "execution_count": 10,
   "outputs": []
  },
  {
   "cell_type": "code",
   "source": [
    "train_data = train_data.drop(['Weight'], axis = 1)"
   ],
   "metadata": {
    "scrolled": true,
    "execution": {
     "iopub.status.busy": "2024-06-17T08:52:19.693044Z",
     "iopub.execute_input": "2024-06-17T08:52:19.693468Z",
     "iopub.status.idle": "2024-06-17T08:52:19.725340Z",
     "shell.execute_reply.started": "2024-06-17T08:52:19.693418Z",
     "shell.execute_reply": "2024-06-17T08:52:19.724076Z"
    },
    "trusted": true
   },
   "execution_count": 11,
   "outputs": []
  },
  {
   "cell_type": "code",
   "source": [
    "sns.countplot(train_data['Label'])"
   ],
   "metadata": {
    "execution": {
     "iopub.status.busy": "2024-06-17T08:52:21.216111Z",
     "iopub.execute_input": "2024-06-17T08:52:21.216544Z",
     "iopub.status.idle": "2024-06-17T08:52:21.494896Z",
     "shell.execute_reply.started": "2024-06-17T08:52:21.216503Z",
     "shell.execute_reply": "2024-06-17T08:52:21.493899Z"
    },
    "trusted": true
   },
   "execution_count": 12,
   "outputs": [
    {
     "execution_count": 12,
     "output_type": "execute_result",
     "data": {
      "text/plain": "<matplotlib.axes._subplots.AxesSubplot at 0x7af0cb16b350>"
     },
     "metadata": {}
    },
    {
     "output_type": "display_data",
     "data": {
      "text/plain": "<Figure size 432x288 with 1 Axes>",
      "image/png": "[encoded data removed]"
     },
     "metadata": {
      "needs_background": "light"
     }
    }
   ]
  },
  {
   "cell_type": "code",
   "source": [
    "# GETTING THE DUMMY OF THE LABEL"
   ],
   "metadata": {
    "scrolled": true,
    "execution": {
     "iopub.status.busy": "2024-06-17T08:52:23.852926Z",
     "iopub.execute_input": "2024-06-17T08:52:23.853371Z",
     "iopub.status.idle": "2024-06-17T08:52:23.857823Z",
     "shell.execute_reply.started": "2024-06-17T08:52:23.853325Z",
     "shell.execute_reply": "2024-06-17T08:52:23.856710Z"
    },
    "trusted": true
   },
   "execution_count": 13,
   "outputs": []
  },
  {
   "cell_type": "code",
   "source": [
    "dummy = pd.DataFrame()\n",
    "dummy = pd.get_dummies(train_data['Label'], drop_first = True)\n",
    "dummy"
   ],
   "metadata": {
    "scrolled": true,
    "execution": {
     "iopub.status.busy": "2024-06-17T08:52:26.701665Z",
     "iopub.execute_input": "2024-06-17T08:52:26.702101Z",
     "iopub.status.idle": "2024-06-17T08:52:26.738835Z",
     "shell.execute_reply.started": "2024-06-17T08:52:26.702060Z",
     "shell.execute_reply": "2024-06-17T08:52:26.737619Z"
    },
    "trusted": true
   },
   "execution_count": 14,
   "outputs": [
    {
     "execution_count": 14,
     "output_type": "execute_result",
     "data": {
      "text/plain": "        s\n0       1\n1       0\n2       0\n3       0\n4       0\n...    ..\n249995  0\n249996  0\n249997  1\n249998  0\n249999  0\n\n[250000 rows x 1 columns]",
      "text/html": "<div>\n<style scoped>\n    .dataframe tbody tr th:only-of-type {\n        vertical-align: middle;\n    }\n\n    .dataframe tbody tr th {\n        vertical-align: top;\n    }\n\n    .dataframe thead th {\n        text-align: right;\n    }\n</style>\n<table border=\"1\" class=\"dataframe\">\n  <thead>\n    <tr style=\"text-align: right;\">\n      <th></th>\n      <th>s</th>\n    </tr>\n  </thead>\n  <tbody>\n    <tr>\n      <th>0</th>\n      <td>1</td>\n    </tr>\n    <tr>\n      <th>1</th>\n      <td>0</td>\n    </tr>\n    <tr>\n      <th>2</th>\n      <td>0</td>\n    </tr>\n    <tr>\n      <th>3</th>\n      <td>0</td>\n    </tr>\n    <tr>\n      <th>4</th>\n      <td>0</td>\n    </tr>\n    <tr>\n      <th>...</th>\n      <td>...</td>\n    </tr>\n    <tr>\n      <th>249995</th>\n      <td>0</td>\n    </tr>\n    <tr>\n      <th>249996</th>\n      <td>0</td>\n    </tr>\n    <tr>\n      <th>249997</th>\n      <td>1</td>\n    </tr>\n    <tr>\n      <th>249998</th>\n      <td>0</td>\n    </tr>\n    <tr>\n      <th>249999</th>\n      <td>0</td>\n    </tr>\n  </tbody>\n</table>\n<p>250000 rows × 1 columns</p>\n</div>"
     },
     "metadata": {}
    }
   ]
  },
  {
   "cell_type": "code",
   "source": [
    "train_data = pd.concat([train_data, dummy], axis = 1)"
   ],
   "metadata": {
    "scrolled": true,
    "execution": {
     "iopub.status.busy": "2024-06-17T08:52:27.902582Z",
     "iopub.execute_input": "2024-06-17T08:52:27.903030Z",
     "iopub.status.idle": "2024-06-17T08:52:27.937278Z",
     "shell.execute_reply.started": "2024-06-17T08:52:27.902993Z",
     "shell.execute_reply": "2024-06-17T08:52:27.936164Z"
    },
    "trusted": true
   },
   "execution_count": 15,
   "outputs": []
  },
  {
   "cell_type": "code",
   "source": [
    "train_data = train_data.drop(['Label'], axis =1 )"
   ],
   "metadata": {
    "scrolled": true,
    "execution": {
     "iopub.status.busy": "2024-06-17T08:52:28.420369Z",
     "iopub.execute_input": "2024-06-17T08:52:28.420885Z",
     "iopub.status.idle": "2024-06-17T08:52:28.504019Z",
     "shell.execute_reply.started": "2024-06-17T08:52:28.420836Z",
     "shell.execute_reply": "2024-06-17T08:52:28.502972Z"
    },
    "trusted": true
   },
   "execution_count": 16,
   "outputs": []
  },
  {
   "cell_type": "code",
   "source": [
    "train_data.shape"
   ],
   "metadata": {
    "execution": {
     "iopub.status.busy": "2024-06-17T08:52:29.231255Z",
     "iopub.execute_input": "2024-06-17T08:52:29.231741Z",
     "iopub.status.idle": "2024-06-17T08:52:29.239761Z",
     "shell.execute_reply.started": "2024-06-17T08:52:29.231692Z",
     "shell.execute_reply": "2024-06-17T08:52:29.237959Z"
    },
    "trusted": true
   },
   "execution_count": 17,
   "outputs": [
    {
     "execution_count": 17,
     "output_type": "execute_result",
     "data": {
      "text/plain": "(250000, 32)"
     },
     "metadata": {}
    }
   ]
  },
  {
   "cell_type": "code",
   "source": [
    "train_data.head()"
   ],
   "metadata": {
    "scrolled": true,
    "execution": {
     "iopub.status.busy": "2024-06-17T08:52:30.173678Z",
     "iopub.execute_input": "2024-06-17T08:52:30.174095Z",
     "iopub.status.idle": "2024-06-17T08:52:30.212300Z",
     "shell.execute_reply.started": "2024-06-17T08:52:30.174061Z",
     "shell.execute_reply": "2024-06-17T08:52:30.211174Z"
    },
    "trusted": true
   },
   "execution_count": 18,
   "outputs": [
    {
     "execution_count": 18,
     "output_type": "execute_result",
     "data": {
      "text/plain": "   EventId  DER_mass_MMC  DER_mass_transverse_met_lep  DER_mass_vis  DER_pt_h  \\\n0   100000       138.470                       51.655        97.827    27.980   \n1   100001       160.937                       68.768       103.235    48.146   \n2   100002      -999.000                      162.172       125.953    35.635   \n3   100003       143.905                       81.417        80.943     0.414   \n4   100004       175.864                       16.915       134.805    16.405   \n\n   DER_deltaeta_jet_jet  DER_mass_jet_jet  DER_prodeta_jet_jet  \\\n0                  0.91           124.711                2.666   \n1               -999.00          -999.000             -999.000   \n2               -999.00          -999.000             -999.000   \n3               -999.00          -999.000             -999.000   \n4               -999.00          -999.000             -999.000   \n\n   DER_deltar_tau_lep  DER_pt_tot  ...  PRI_met_sumet  PRI_jet_num  \\\n0               3.064      41.928  ...        258.733            2   \n1               3.473       2.078  ...        164.546            1   \n2               3.148       9.336  ...        260.414            1   \n3               3.310       0.414  ...         86.062            0   \n4               3.891      16.405  ...         53.131            0   \n\n   PRI_jet_leading_pt  PRI_jet_leading_eta  PRI_jet_leading_phi  \\\n0              67.435                2.150                0.444   \n1              46.226                0.725                1.158   \n2              44.251                2.053               -2.028   \n3            -999.000             -999.000             -999.000   \n4            -999.000             -999.000             -999.000   \n\n   PRI_jet_subleading_pt  PRI_jet_subleading_eta  PRI_jet_subleading_phi  \\\n0                 46.062                    1.24                  -2.475   \n1               -999.000                 -999.00                -999.000   \n2               -999.000                 -999.00                -999.000   \n3               -999.000                 -999.00                -999.000   \n4               -999.000                 -999.00                -999.000   \n\n   PRI_jet_all_pt  s  \n0         113.497  1  \n1          46.226  0  \n2          44.251  0  \n3          -0.000  0  \n4           0.000  0  \n\n[5 rows x 32 columns]",
      "text/html": "<div>\n<style scoped>\n    .dataframe tbody tr th:only-of-type {\n        vertical-align: middle;\n    }\n\n    .dataframe tbody tr th {\n        vertical-align: top;\n    }\n\n    .dataframe thead th {\n        text-align: right;\n    }\n</style>\n<table border=\"1\" class=\"dataframe\">\n  <thead>\n    <tr style=\"text-align: right;\">\n      <th></th>\n      <th>EventId</th>\n      <th>DER_mass_MMC</th>\n      <th>DER_mass_transverse_met_lep</th>\n      <th>DER_mass_vis</th>\n      <th>DER_pt_h</th>\n      <th>DER_deltaeta_jet_jet</th>\n      <th>DER_mass_jet_jet</th>\n      <th>DER_prodeta_jet_jet</th>\n      <th>DER_deltar_tau_lep</th>\n      <th>DER_pt_tot</th>\n      <th>...</th>\n      <th>PRI_met_sumet</th>\n      <th>PRI_jet_num</th>\n      <th>PRI_jet_leading_pt</th>\n      <th>PRI_jet_leading_eta</th>\n      <th>PRI_jet_leading_phi</th>\n      <th>PRI_jet_subleading_pt</th>\n      <th>PRI_jet_subleading_eta</th>\n      <th>PRI_jet_subleading_phi</th>\n      <th>PRI_jet_all_pt</th>\n      <th>s</th>\n    </tr>\n  </thead>\n  <tbody>\n    <tr>\n      <th>0</th>\n      <td>100000</td>\n      <td>138.470</td>\n      <td>51.655</td>\n      <td>97.827</td>\n      <td>27.980</td>\n      <td>0.91</td>\n      <td>124.711</td>\n      <td>2.666</td>\n      <td>3.064</td>\n      <td>41.928</td>\n      <td>...</td>\n      <td>258.733</td>\n      <td>2</td>\n      <td>67.435</td>\n      <td>2.150</td>\n      <td>0.444</td>\n      <td>46.062</td>\n      <td>1.24</td>\n      <td>-2.475</td>\n      <td>113.497</td>\n      <td>1</td>\n    </tr>\n    <tr>\n      <th>1</th>\n      <td>100001</td>\n      <td>160.937</td>\n      <td>68.768</td>\n      <td>103.235</td>\n      <td>48.146</td>\n      <td>-999.00</td>\n      <td>-999.000</td>\n      <td>-999.000</td>\n      <td>3.473</td>\n      <td>2.078</td>\n      <td>...</td>\n      <td>164.546</td>\n      <td>1</td>\n      <td>46.226</td>\n      <td>0.725</td>\n      <td>1.158</td>\n      <td>-999.000</td>\n      <td>-999.00</td>\n      <td>-999.000</td>\n      <td>46.226</td>\n      <td>0</td>\n    </tr>\n    <tr>\n      <th>2</th>\n      <td>100002</td>\n      <td>-999.000</td>\n      <td>162.172</td>\n      <td>125.953</td>\n      <td>35.635</td>\n      <td>-999.00</td>\n      <td>-999.000</td>\n      <td>-999.000</td>\n      <td>3.148</td>\n      <td>9.336</td>\n      <td>...</td>\n      <td>260.414</td>\n      <td>1</td>\n      <td>44.251</td>\n      <td>2.053</td>\n      <td>-2.028</td>\n      <td>-999.000</td>\n      <td>-999.00</td>\n      <td>-999.000</td>\n      <td>44.251</td>\n      <td>0</td>\n    </tr>\n    <tr>\n      <th>3</th>\n      <td>100003</td>\n      <td>143.905</td>\n      <td>81.417</td>\n      <td>80.943</td>\n      <td>0.414</td>\n      <td>-999.00</td>\n      <td>-999.000</td>\n      <td>-999.000</td>\n      <td>3.310</td>\n      <td>0.414</td>\n      <td>...</td>\n      <td>86.062</td>\n      <td>0</td>\n      <td>-999.000</td>\n      <td>-999.000</td>\n      <td>-999.000</td>\n      <td>-999.000</td>\n      <td>-999.00</td>\n      <td>-999.000</td>\n      <td>-0.000</td>\n      <td>0</td>\n    </tr>\n    <tr>\n      <th>4</th>\n      <td>100004</td>\n      <td>175.864</td>\n      <td>16.915</td>\n      <td>134.805</td>\n      <td>16.405</td>\n      <td>-999.00</td>\n      <td>-999.000</td>\n      <td>-999.000</td>\n      <td>3.891</td>\n      <td>16.405</td>\n      <td>...</td>\n      <td>53.131</td>\n      <td>0</td>\n      <td>-999.000</td>\n      <td>-999.000</td>\n      <td>-999.000</td>\n      <td>-999.000</td>\n      <td>-999.00</td>\n      <td>-999.000</td>\n      <td>0.000</td>\n      <td>0</td>\n    </tr>\n  </tbody>\n</table>\n<p>5 rows × 32 columns</p>\n</div>"
     },
     "metadata": {}
    }
   ]
  },
  {
   "cell_type": "code",
   "source": [
    "x = train_data.iloc[:, :-1]\n",
    "\n",
    "x.shape"
   ],
   "metadata": {
    "scrolled": true,
    "execution": {
     "iopub.status.busy": "2024-06-17T08:52:30.432156Z",
     "iopub.execute_input": "2024-06-17T08:52:30.432587Z",
     "iopub.status.idle": "2024-06-17T08:52:30.463688Z",
     "shell.execute_reply.started": "2024-06-17T08:52:30.432534Z",
     "shell.execute_reply": "2024-06-17T08:52:30.462667Z"
    },
    "trusted": true
   },
   "execution_count": 19,
   "outputs": [
    {
     "execution_count": 19,
     "output_type": "execute_result",
     "data": {
      "text/plain": "(250000, 31)"
     },
     "metadata": {}
    }
   ]
  },
  {
   "cell_type": "code",
   "source": [
    "y = train_data.iloc[:, -1]\n",
    "y.shape"
   ],
   "metadata": {
    "scrolled": true,
    "execution": {
     "iopub.status.busy": "2024-06-17T08:52:35.310013Z",
     "iopub.execute_input": "2024-06-17T08:52:35.310427Z",
     "iopub.status.idle": "2024-06-17T08:52:35.318903Z",
     "shell.execute_reply.started": "2024-06-17T08:52:35.310388Z",
     "shell.execute_reply": "2024-06-17T08:52:35.317701Z"
    },
    "trusted": true
   },
   "execution_count": 20,
   "outputs": [
    {
     "execution_count": 20,
     "output_type": "execute_result",
     "data": {
      "text/plain": "(250000,)"
     },
     "metadata": {}
    }
   ]
  },
  {
   "cell_type": "code",
   "source": [
    "from sklearn.model_selection import train_test_split"
   ],
   "metadata": {
    "scrolled": true,
    "execution": {
     "iopub.status.busy": "2024-06-17T08:52:35.981110Z",
     "iopub.execute_input": "2024-06-17T08:52:35.981691Z",
     "iopub.status.idle": "2024-06-17T08:52:36.116685Z",
     "shell.execute_reply.started": "2024-06-17T08:52:35.981617Z",
     "shell.execute_reply": "2024-06-17T08:52:36.115288Z"
    },
    "trusted": true
   },
   "execution_count": 21,
   "outputs": []
  },
  {
   "cell_type": "code",
   "source": [
    "x_train, x_test, y_train, y_test = train_test_split(x, y, test_size = 0.2, random_state = 0)"
   ],
   "metadata": {
    "scrolled": true,
    "execution": {
     "iopub.status.busy": "2024-06-17T08:52:38.381410Z",
     "iopub.execute_input": "2024-06-17T08:52:38.381889Z",
     "iopub.status.idle": "2024-06-17T08:52:38.470768Z",
     "shell.execute_reply.started": "2024-06-17T08:52:38.381851Z",
     "shell.execute_reply": "2024-06-17T08:52:38.469768Z"
    },
    "trusted": true
   },
   "execution_count": 22,
   "outputs": []
  },
  {
   "cell_type": "code",
   "source": [
    "# DATA PREPROCESSING IS ALWAYS NECESSARY SO THAT THE MODELS WOULD NOT HAVE TO WORRY ABT ANYTHING \n",
    "# WE MAY NOT ALSO RUN INTO ANY KERNEL RELATED ISSUES\n",
    "# TIMING PROBLEM WOULDN'T HAPPEN( IT HAPPENED WITH ME SO AN ADVICE)\n",
    "# ALWAYS PREPROCESS (I USED STANDARD SCALER), YOU CAN ALSO NORMALISE IT"
   ],
   "metadata": {
    "scrolled": true,
    "execution": {
     "iopub.status.busy": "2024-06-17T08:52:38.606131Z",
     "iopub.execute_input": "2024-06-17T08:52:38.606548Z",
     "iopub.status.idle": "2024-06-17T08:52:38.610659Z",
     "shell.execute_reply.started": "2024-06-17T08:52:38.606510Z",
     "shell.execute_reply": "2024-06-17T08:52:38.609544Z"
    },
    "trusted": true
   },
   "execution_count": 23,
   "outputs": []
  },
  {
   "cell_type": "code",
   "source": [
    "from sklearn.preprocessing import StandardScaler, normalize\n"
   ],
   "metadata": {
    "scrolled": true,
    "execution": {
     "iopub.status.busy": "2024-06-17T08:52:38.780880Z",
     "iopub.execute_input": "2024-06-17T08:52:38.781328Z",
     "iopub.status.idle": "2024-06-17T08:52:38.786107Z",
     "shell.execute_reply.started": "2024-06-17T08:52:38.781286Z",
     "shell.execute_reply": "2024-06-17T08:52:38.784773Z"
    },
    "trusted": true
   },
   "execution_count": 24,
   "outputs": []
  },
  {
   "cell_type": "code",
   "source": [
    "eventid_test = test_data.copy()"
   ],
   "metadata": {
    "execution": {
     "iopub.status.busy": "2024-06-17T08:52:51.389393Z",
     "iopub.execute_input": "2024-06-17T08:52:51.389834Z",
     "iopub.status.idle": "2024-06-17T08:52:51.461754Z",
     "shell.execute_reply.started": "2024-06-17T08:52:51.389793Z",
     "shell.execute_reply": "2024-06-17T08:52:51.460768Z"
    },
    "trusted": true
   },
   "execution_count": 25,
   "outputs": []
  },
  {
   "cell_type": "code",
   "source": [
    "sc = StandardScaler()\n",
    "\n",
    "test_data = sc.fit_transform(test_data)"
   ],
   "metadata": {
    "execution": {
     "iopub.status.busy": "2024-06-17T08:54:02.015278Z",
     "iopub.execute_input": "2024-06-17T08:54:02.015707Z",
     "iopub.status.idle": "2024-06-17T08:54:02.560066Z",
     "shell.execute_reply.started": "2024-06-17T08:54:02.015669Z",
     "shell.execute_reply": "2024-06-17T08:54:02.558974Z"
    },
    "trusted": true
   },
   "execution_count": 26,
   "outputs": []
  },
  {
   "cell_type": "code",
   "source": [
    "test_data.shape"
   ],
   "metadata": {
    "execution": {
     "iopub.status.busy": "2024-06-17T08:54:03.423032Z",
     "iopub.execute_input": "2024-06-17T08:54:03.423532Z",
     "iopub.status.idle": "2024-06-17T08:54:03.430326Z",
     "shell.execute_reply.started": "2024-06-17T08:54:03.423487Z",
     "shell.execute_reply": "2024-06-17T08:54:03.429276Z"
    },
    "trusted": true
   },
   "execution_count": 27,
   "outputs": [
    {
     "execution_count": 27,
     "output_type": "execute_result",
     "data": {
      "text/plain": "(550000, 31)"
     },
     "metadata": {}
    }
   ]
  },
  {
   "cell_type": "code",
   "source": [
    "\n",
    "x_train = sc.fit_transform(x_train)\n",
    "x_test = sc.transform(x_test)"
   ],
   "metadata": {
    "scrolled": true,
    "execution": {
     "iopub.status.busy": "2024-06-17T08:54:03.681700Z",
     "iopub.execute_input": "2024-06-17T08:54:03.682177Z",
     "iopub.status.idle": "2024-06-17T08:54:03.890599Z",
     "shell.execute_reply.started": "2024-06-17T08:54:03.682129Z",
     "shell.execute_reply": "2024-06-17T08:54:03.889300Z"
    },
    "trusted": true
   },
   "execution_count": 28,
   "outputs": []
  },
  {
   "cell_type": "code",
   "source": [
    "x_train.shape"
   ],
   "metadata": {
    "scrolled": true,
    "execution": {
     "iopub.status.busy": "2024-06-17T08:54:08.687452Z",
     "iopub.execute_input": "2024-06-17T08:54:08.688019Z",
     "iopub.status.idle": "2024-06-17T08:54:08.697194Z",
     "shell.execute_reply.started": "2024-06-17T08:54:08.687969Z",
     "shell.execute_reply": "2024-06-17T08:54:08.695864Z"
    },
    "trusted": true
   },
   "execution_count": 29,
   "outputs": [
    {
     "execution_count": 29,
     "output_type": "execute_result",
     "data": {
      "text/plain": "(200000, 31)"
     },
     "metadata": {}
    }
   ]
  },
  {
   "cell_type": "code",
   "source": [
    "x_train"
   ],
   "metadata": {
    "scrolled": true,
    "execution": {
     "iopub.status.busy": "2024-06-17T08:54:10.158887Z",
     "iopub.execute_input": "2024-06-17T08:54:10.159341Z",
     "iopub.status.idle": "2024-06-17T08:54:10.167011Z",
     "shell.execute_reply.started": "2024-06-17T08:54:10.159295Z",
     "shell.execute_reply": "2024-06-17T08:54:10.165884Z"
    },
    "trusted": true
   },
   "execution_count": 30,
   "outputs": [
    {
     "execution_count": 30,
     "output_type": "execute_result",
     "data": {
      "text/plain": "array([[ 0.33286787,  0.37234274, -0.23698366, ...,  1.55879421,\n         1.56870933,  1.53772449],\n       [-1.17427658,  0.38665917, -0.48304797, ..., -0.63950315,\n        -0.63950353, -0.74493581],\n       [ 0.45260065, -2.33781464,  0.44545656, ..., -0.63950315,\n        -0.63950353, -0.74493581],\n       ...,\n       [ 0.67587823,  0.42278981, -0.68419331, ..., -0.63950315,\n        -0.63950353, -0.74493581],\n       [-1.12750056,  0.35734962, -1.33379289, ...,  1.55966977,\n         1.55799318,  1.57386938],\n       [ 1.03144535,  0.39977723, -0.19916461, ..., -0.63950315,\n        -0.63950353, -0.74493581]])"
     },
     "metadata": {}
    }
   ]
  },
  {
   "cell_type": "code",
   "source": [
    "x_test"
   ],
   "metadata": {
    "scrolled": true,
    "execution": {
     "iopub.status.busy": "2024-06-17T08:54:13.585238Z",
     "iopub.execute_input": "2024-06-17T08:54:13.585683Z",
     "iopub.status.idle": "2024-06-17T08:54:13.593653Z",
     "shell.execute_reply.started": "2024-06-17T08:54:13.585642Z",
     "shell.execute_reply": "2024-06-17T08:54:13.592638Z"
    },
    "trusted": true
   },
   "execution_count": 31,
   "outputs": [
    {
     "execution_count": 31,
     "output_type": "execute_result",
     "data": {
      "text/plain": "array([[ 0.21025231,  0.43595954,  0.7610208 , ..., -0.63950315,\n        -0.63950353, -0.74493581],\n       [-0.43202762, -2.33781464,  0.86596374, ..., -0.63950315,\n        -0.63950353, -0.74493581],\n       [ 0.77236851,  0.37632418,  0.32815242, ..., -0.63950315,\n        -0.63950353, -0.18900936],\n       ...,\n       [-0.76248121,  0.3784773 , -0.55871437, ...,  1.5680858 ,\n         1.569468  ,  1.77911495],\n       [ 1.28334293,  0.39496161, -0.55715861, ..., -0.63950315,\n        -0.63950353, -0.19927826],\n       [-1.12621162,  0.24669384,  0.30272285, ..., -0.63950315,\n        -0.63950353, -0.74493581]])"
     },
     "metadata": {}
    }
   ]
  },
  {
   "cell_type": "code",
   "source": [
    "# Models I used \n",
    "# Logistic regression\n",
    "# Random Forest\n",
    "# Decision Tree\n",
    "# XG BOOST"
   ],
   "metadata": {
    "scrolled": true,
    "execution": {
     "iopub.status.busy": "2024-06-17T08:54:14.413670Z",
     "iopub.execute_input": "2024-06-17T08:54:14.414068Z",
     "iopub.status.idle": "2024-06-17T08:54:14.418335Z",
     "shell.execute_reply.started": "2024-06-17T08:54:14.414034Z",
     "shell.execute_reply": "2024-06-17T08:54:14.417112Z"
    },
    "trusted": true
   },
   "execution_count": 32,
   "outputs": []
  },
  {
   "cell_type": "code",
   "source": [
    "from sklearn.linear_model import LogisticRegression"
   ],
   "metadata": {
    "scrolled": true,
    "execution": {
     "iopub.status.busy": "2024-06-17T08:54:34.255794Z",
     "iopub.execute_input": "2024-06-17T08:54:34.256212Z",
     "iopub.status.idle": "2024-06-17T08:54:34.261512Z",
     "shell.execute_reply.started": "2024-06-17T08:54:34.256177Z",
     "shell.execute_reply": "2024-06-17T08:54:34.260293Z"
    },
    "trusted": true
   },
   "execution_count": 34,
   "outputs": []
  },
  {
   "cell_type": "code",
   "source": [
    "lr = LogisticRegression()"
   ],
   "metadata": {
    "scrolled": true,
    "execution": {
     "iopub.status.busy": "2024-06-17T08:54:36.063161Z",
     "iopub.execute_input": "2024-06-17T08:54:36.063698Z",
     "iopub.status.idle": "2024-06-17T08:54:36.068982Z",
     "shell.execute_reply.started": "2024-06-17T08:54:36.063644Z",
     "shell.execute_reply": "2024-06-17T08:54:36.067947Z"
    },
    "trusted": true
   },
   "execution_count": 35,
   "outputs": []
  },
  {
   "cell_type": "code",
   "source": [
    "\n",
    "lr.fit(x_train, y_train)\n"
   ],
   "metadata": {
    "scrolled": true,
    "execution": {
     "iopub.status.busy": "2024-06-17T08:54:36.687089Z",
     "iopub.execute_input": "2024-06-17T08:54:36.687566Z",
     "iopub.status.idle": "2024-06-17T08:54:39.424754Z",
     "shell.execute_reply.started": "2024-06-17T08:54:36.687471Z",
     "shell.execute_reply": "2024-06-17T08:54:39.423588Z"
    },
    "trusted": true
   },
   "execution_count": 36,
   "outputs": [
    {
     "name": "stderr",
     "text": "/opt/conda/lib/python3.7/site-packages/sklearn/linear_model/_logistic.py:764: ConvergenceWarning: lbfgs failed to converge (status=1):\nSTOP: TOTAL NO. of ITERATIONS REACHED LIMIT.\n\nIncrease the number of iterations (max_iter) or scale the data as shown in:\n    https://scikit-learn.org/stable/modules/preprocessing.html\nPlease also refer to the documentation for alternative solver options:\n    https://scikit-learn.org/stable/modules/linear_model.html#logistic-regression\n  extra_warning_msg=_LOGISTIC_SOLVER_CONVERGENCE_MSG)\n",
     "output_type": "stream"
    },
    {
     "execution_count": 36,
     "output_type": "execute_result",
     "data": {
      "text/plain": "LogisticRegression()"
     },
     "metadata": {}
    }
   ]
  },
  {
   "cell_type": "code",
   "source": [
    "lr_pred = lr.predict(x_test)\n"
   ],
   "metadata": {
    "scrolled": true,
    "execution": {
     "iopub.status.busy": "2024-06-17T08:54:39.427737Z",
     "iopub.execute_input": "2024-06-17T08:54:39.428251Z",
     "iopub.status.idle": "2024-06-17T08:54:39.436878Z",
     "shell.execute_reply.started": "2024-06-17T08:54:39.428200Z",
     "shell.execute_reply": "2024-06-17T08:54:39.435291Z"
    },
    "trusted": true
   },
   "execution_count": 37,
   "outputs": []
  },
  {
   "cell_type": "code",
   "source": [
    "from sklearn.metrics import accuracy_score, confusion_matrix, classification_report"
   ],
   "metadata": {
    "scrolled": true,
    "execution": {
     "iopub.status.busy": "2024-06-17T08:54:39.439181Z",
     "iopub.execute_input": "2024-06-17T08:54:39.439948Z",
     "iopub.status.idle": "2024-06-17T08:54:39.445720Z",
     "shell.execute_reply.started": "2024-06-17T08:54:39.439893Z",
     "shell.execute_reply": "2024-06-17T08:54:39.444644Z"
    },
    "trusted": true
   },
   "execution_count": 38,
   "outputs": []
  },
  {
   "cell_type": "code",
   "source": [
    "accuracy_score(y_test, lr_pred)\n"
   ],
   "metadata": {
    "scrolled": true,
    "execution": {
     "iopub.status.busy": "2024-06-17T08:54:39.447763Z",
     "iopub.execute_input": "2024-06-17T08:54:39.448144Z",
     "iopub.status.idle": "2024-06-17T08:54:39.462833Z",
     "shell.execute_reply.started": "2024-06-17T08:54:39.448107Z",
     "shell.execute_reply": "2024-06-17T08:54:39.461777Z"
    },
    "trusted": true
   },
   "execution_count": 39,
   "outputs": [
    {
     "execution_count": 39,
     "output_type": "execute_result",
     "data": {
      "text/plain": "0.7513"
     },
     "metadata": {}
    }
   ]
  },
  {
   "cell_type": "code",
   "source": [
    "print(classification_report(y_test, lr_pred))"
   ],
   "metadata": {
    "scrolled": true,
    "execution": {
     "iopub.status.busy": "2024-06-17T08:54:49.296045Z",
     "iopub.execute_input": "2024-06-17T08:54:49.296436Z",
     "iopub.status.idle": "2024-06-17T08:54:49.388038Z",
     "shell.execute_reply.started": "2024-06-17T08:54:49.296400Z",
     "shell.execute_reply": "2024-06-17T08:54:49.387005Z"
    },
    "trusted": true
   },
   "execution_count": 40,
   "outputs": [
    {
     "name": "stdout",
     "text": "              precision    recall  f1-score   support\n\n           0       0.78      0.86      0.82     32871\n           1       0.67      0.54      0.60     17129\n\n    accuracy                           0.75     50000\n   macro avg       0.73      0.70      0.71     50000\nweighted avg       0.74      0.75      0.74     50000\n\n",
     "output_type": "stream"
    }
   ]
  },
  {
   "cell_type": "code",
   "source": [
    "from sklearn.ensemble import RandomForestClassifier\n",
    "from sklearn.tree import DecisionTreeClassifier\n",
    "\n"
   ],
   "metadata": {
    "scrolled": true,
    "execution": {
     "iopub.status.busy": "2024-06-17T08:55:03.552991Z",
     "iopub.execute_input": "2024-06-17T08:55:03.553400Z",
     "iopub.status.idle": "2024-06-17T08:55:03.694824Z",
     "shell.execute_reply.started": "2024-06-17T08:55:03.553361Z",
     "shell.execute_reply": "2024-06-17T08:55:03.693397Z"
    },
    "trusted": true
   },
   "execution_count": 41,
   "outputs": []
  },
  {
   "cell_type": "code",
   "source": [
    "rf = RandomForestClassifier()"
   ],
   "metadata": {
    "scrolled": true,
    "execution": {
     "iopub.status.busy": "2024-06-17T08:55:04.590729Z",
     "iopub.execute_input": "2024-06-17T08:55:04.591231Z",
     "iopub.status.idle": "2024-06-17T08:55:04.596931Z",
     "shell.execute_reply.started": "2024-06-17T08:55:04.591189Z",
     "shell.execute_reply": "2024-06-17T08:55:04.595591Z"
    },
    "trusted": true
   },
   "execution_count": 42,
   "outputs": []
  },
  {
   "cell_type": "code",
   "source": [
    "#I am doing this timing thing cz it was taking a lot of time before so just wanted to know the time, you know just for fun"
   ],
   "metadata": {
    "scrolled": true,
    "execution": {
     "iopub.status.busy": "2024-06-17T08:55:06.768046Z",
     "iopub.execute_input": "2024-06-17T08:55:06.768478Z",
     "iopub.status.idle": "2024-06-17T08:55:06.772918Z",
     "shell.execute_reply.started": "2024-06-17T08:55:06.768439Z",
     "shell.execute_reply": "2024-06-17T08:55:06.771542Z"
    },
    "trusted": true
   },
   "execution_count": 43,
   "outputs": []
  },
  {
   "cell_type": "code",
   "source": [
    "import time\n",
    "tic = time.time()\n",
    "\n",
    "rf.fit(x_train, y_train)\n",
    "\n",
    "toc = time.time()\n",
    "print('time taken', (toc -  tic))"
   ],
   "metadata": {
    "scrolled": true,
    "execution": {
     "iopub.status.busy": "2024-06-17T08:55:07.331299Z",
     "iopub.execute_input": "2024-06-17T08:55:07.331766Z",
     "iopub.status.idle": "2024-06-17T08:57:39.708579Z",
     "shell.execute_reply.started": "2024-06-17T08:55:07.331723Z",
     "shell.execute_reply": "2024-06-17T08:57:39.707576Z"
    },
    "trusted": true
   },
   "execution_count": 44,
   "outputs": [
    {
     "name": "stdout",
     "text": "time taken 152.3696722984314\n",
     "output_type": "stream"
    }
   ]
  },
  {
   "cell_type": "code",
   "source": [
    "rf_pred = rf.predict(x_test)"
   ],
   "metadata": {
    "scrolled": true,
    "execution": {
     "iopub.status.busy": "2024-06-17T08:57:39.711427Z",
     "iopub.execute_input": "2024-06-17T08:57:39.711879Z",
     "iopub.status.idle": "2024-06-17T08:57:41.554433Z",
     "shell.execute_reply.started": "2024-06-17T08:57:39.711839Z",
     "shell.execute_reply": "2024-06-17T08:57:41.553452Z"
    },
    "trusted": true
   },
   "execution_count": 45,
   "outputs": []
  },
  {
   "cell_type": "code",
   "source": [
    "rf.score(x_train, y_train)"
   ],
   "metadata": {
    "execution": {
     "iopub.status.busy": "2024-06-17T08:57:41.556070Z",
     "iopub.execute_input": "2024-06-17T08:57:41.556438Z",
     "iopub.status.idle": "2024-06-17T08:57:48.541220Z",
     "shell.execute_reply.started": "2024-06-17T08:57:41.556393Z",
     "shell.execute_reply": "2024-06-17T08:57:48.538740Z"
    },
    "trusted": true
   },
   "execution_count": 46,
   "outputs": [
    {
     "execution_count": 46,
     "output_type": "execute_result",
     "data": {
      "text/plain": "0.99999"
     },
     "metadata": {}
    }
   ]
  },
  {
   "cell_type": "code",
   "source": [
    "rf.score(x_test, y_test)"
   ],
   "metadata": {
    "execution": {
     "iopub.status.busy": "2024-06-17T08:57:48.544534Z",
     "iopub.execute_input": "2024-06-17T08:57:48.545393Z",
     "iopub.status.idle": "2024-06-17T08:57:50.426727Z",
     "shell.execute_reply.started": "2024-06-17T08:57:48.545338Z",
     "shell.execute_reply": "2024-06-17T08:57:50.425352Z"
    },
    "trusted": true
   },
   "execution_count": 47,
   "outputs": [
    {
     "execution_count": 47,
     "output_type": "execute_result",
     "data": {
      "text/plain": "0.8393"
     },
     "metadata": {}
    }
   ]
  },
  {
   "cell_type": "code",
   "source": [
    "print(classification_report(y_test, rf_pred))"
   ],
   "metadata": {
    "execution": {
     "iopub.status.busy": "2024-06-17T08:57:50.430031Z",
     "iopub.execute_input": "2024-06-17T08:57:50.430418Z",
     "iopub.status.idle": "2024-06-17T08:57:50.523884Z",
     "shell.execute_reply.started": "2024-06-17T08:57:50.430382Z",
     "shell.execute_reply": "2024-06-17T08:57:50.522741Z"
    },
    "trusted": true
   },
   "execution_count": 48,
   "outputs": [
    {
     "name": "stdout",
     "text": "              precision    recall  f1-score   support\n\n           0       0.86      0.91      0.88     32871\n           1       0.80      0.71      0.75     17129\n\n    accuracy                           0.84     50000\n   macro avg       0.83      0.81      0.82     50000\nweighted avg       0.84      0.84      0.84     50000\n\n",
     "output_type": "stream"
    }
   ]
  },
  {
   "cell_type": "code",
   "source": [
    "dt = DecisionTreeClassifier()"
   ],
   "metadata": {
    "scrolled": true,
    "execution": {
     "iopub.status.busy": "2024-06-17T08:57:50.526337Z",
     "iopub.execute_input": "2024-06-17T08:57:50.526837Z",
     "iopub.status.idle": "2024-06-17T08:57:50.532218Z",
     "shell.execute_reply.started": "2024-06-17T08:57:50.526783Z",
     "shell.execute_reply": "2024-06-17T08:57:50.530933Z"
    },
    "trusted": true
   },
   "execution_count": 49,
   "outputs": []
  },
  {
   "cell_type": "code",
   "source": [
    "dt.fit(x_train, y_train)"
   ],
   "metadata": {
    "scrolled": true,
    "execution": {
     "iopub.status.busy": "2024-06-17T08:57:50.533885Z",
     "iopub.execute_input": "2024-06-17T08:57:50.534308Z",
     "iopub.status.idle": "2024-06-17T08:58:05.850766Z",
     "shell.execute_reply.started": "2024-06-17T08:57:50.534268Z",
     "shell.execute_reply": "2024-06-17T08:58:05.849247Z"
    },
    "trusted": true
   },
   "execution_count": 50,
   "outputs": [
    {
     "execution_count": 50,
     "output_type": "execute_result",
     "data": {
      "text/plain": "DecisionTreeClassifier()"
     },
     "metadata": {}
    }
   ]
  },
  {
   "cell_type": "code",
   "source": [
    "dt_pred = dt.predict(x_test)"
   ],
   "metadata": {
    "scrolled": true,
    "execution": {
     "iopub.status.busy": "2024-06-17T08:58:05.852514Z",
     "iopub.execute_input": "2024-06-17T08:58:05.853043Z",
     "iopub.status.idle": "2024-06-17T08:58:05.881596Z",
     "shell.execute_reply.started": "2024-06-17T08:58:05.852989Z",
     "shell.execute_reply": "2024-06-17T08:58:05.880468Z"
    },
    "trusted": true
   },
   "execution_count": 51,
   "outputs": []
  },
  {
   "cell_type": "code",
   "source": [
    "print(classification_report(y_test, dt_pred))"
   ],
   "metadata": {
    "scrolled": true,
    "execution": {
     "iopub.status.busy": "2024-06-17T08:58:05.883171Z",
     "iopub.execute_input": "2024-06-17T08:58:05.883733Z",
     "iopub.status.idle": "2024-06-17T08:58:05.982299Z",
     "shell.execute_reply.started": "2024-06-17T08:58:05.883676Z",
     "shell.execute_reply": "2024-06-17T08:58:05.981147Z"
    },
    "trusted": true
   },
   "execution_count": 52,
   "outputs": [
    {
     "name": "stdout",
     "text": "              precision    recall  f1-score   support\n\n           0       0.82      0.82      0.82     32871\n           1       0.65      0.66      0.66     17129\n\n    accuracy                           0.76     50000\n   macro avg       0.74      0.74      0.74     50000\nweighted avg       0.77      0.76      0.76     50000\n\n",
     "output_type": "stream"
    }
   ]
  },
  {
   "cell_type": "code",
   "source": [
    "import xgboost\n",
    "from xgboost import XGBClassifier\n",
    "\n"
   ],
   "metadata": {
    "scrolled": true,
    "execution": {
     "iopub.status.busy": "2024-06-17T08:58:05.984284Z",
     "iopub.execute_input": "2024-06-17T08:58:05.984789Z",
     "iopub.status.idle": "2024-06-17T08:58:07.265653Z",
     "shell.execute_reply.started": "2024-06-17T08:58:05.984737Z",
     "shell.execute_reply": "2024-06-17T08:58:07.264376Z"
    },
    "trusted": true
   },
   "execution_count": 53,
   "outputs": []
  },
  {
   "cell_type": "code",
   "source": [
    "xg = XGBClassifier()\n"
   ],
   "metadata": {
    "scrolled": true,
    "execution": {
     "iopub.status.busy": "2024-06-17T08:58:07.267197Z",
     "iopub.execute_input": "2024-06-17T08:58:07.267652Z",
     "iopub.status.idle": "2024-06-17T08:58:07.272750Z",
     "shell.execute_reply.started": "2024-06-17T08:58:07.267607Z",
     "shell.execute_reply": "2024-06-17T08:58:07.271163Z"
    },
    "trusted": true
   },
   "execution_count": 54,
   "outputs": []
  },
  {
   "cell_type": "code",
   "source": [
    "tic = time.time()\n",
    "\n",
    "xg.fit(x_train, y_train)\n",
    "\n",
    "toc = time.time()\n",
    "print('time taken', (toc -  tic))"
   ],
   "metadata": {
    "scrolled": true,
    "execution": {
     "iopub.status.busy": "2024-06-17T08:58:07.274331Z",
     "iopub.execute_input": "2024-06-17T08:58:07.274707Z",
     "iopub.status.idle": "2024-06-17T08:58:40.063517Z",
     "shell.execute_reply.started": "2024-06-17T08:58:07.274647Z",
     "shell.execute_reply": "2024-06-17T08:58:40.062452Z"
    },
    "trusted": true
   },
   "execution_count": 55,
   "outputs": [
    {
     "name": "stdout",
     "text": "time taken 32.774362564086914\n",
     "output_type": "stream"
    }
   ]
  },
  {
   "cell_type": "code",
   "source": [
    "xg_pred = xg.predict(x_test)"
   ],
   "metadata": {
    "scrolled": true,
    "execution": {
     "iopub.status.busy": "2024-06-17T08:58:40.065282Z",
     "iopub.execute_input": "2024-06-17T08:58:40.066008Z",
     "iopub.status.idle": "2024-06-17T08:58:40.235143Z",
     "shell.execute_reply.started": "2024-06-17T08:58:40.065957Z",
     "shell.execute_reply": "2024-06-17T08:58:40.234059Z"
    },
    "trusted": true
   },
   "execution_count": 56,
   "outputs": []
  },
  {
   "cell_type": "code",
   "source": [
    "print(classification_report(y_test, xg_pred))"
   ],
   "metadata": {
    "scrolled": true,
    "execution": {
     "iopub.status.busy": "2024-06-17T08:58:40.236848Z",
     "iopub.execute_input": "2024-06-17T08:58:40.237520Z",
     "iopub.status.idle": "2024-06-17T08:58:40.355818Z",
     "shell.execute_reply.started": "2024-06-17T08:58:40.237473Z",
     "shell.execute_reply": "2024-06-17T08:58:40.354845Z"
    },
    "trusted": true
   },
   "execution_count": 57,
   "outputs": [
    {
     "name": "stdout",
     "text": "              precision    recall  f1-score   support\n\n           0       0.86      0.90      0.88     32871\n           1       0.79      0.73      0.76     17129\n\n    accuracy                           0.84     50000\n   macro avg       0.83      0.81      0.82     50000\nweighted avg       0.84      0.84      0.84     50000\n\n",
     "output_type": "stream"
    }
   ]
  },
  {
   "cell_type": "code",
   "source": [
    "xg.score(x_train, y_train)\n"
   ],
   "metadata": {
    "execution": {
     "iopub.status.busy": "2024-06-17T08:58:40.357400Z",
     "iopub.execute_input": "2024-06-17T08:58:40.358094Z",
     "iopub.status.idle": "2024-06-17T08:58:41.065517Z",
     "shell.execute_reply.started": "2024-06-17T08:58:40.358046Z",
     "shell.execute_reply": "2024-06-17T08:58:41.064476Z"
    },
    "trusted": true
   },
   "execution_count": 58,
   "outputs": [
    {
     "execution_count": 58,
     "output_type": "execute_result",
     "data": {
      "text/plain": "0.862625"
     },
     "metadata": {}
    }
   ]
  },
  {
   "cell_type": "code",
   "source": [
    "xg.score(x_test, y_test)"
   ],
   "metadata": {
    "execution": {
     "iopub.status.busy": "2024-06-17T08:58:41.067217Z",
     "iopub.execute_input": "2024-06-17T08:58:41.067948Z",
     "iopub.status.idle": "2024-06-17T08:58:41.244813Z",
     "shell.execute_reply.started": "2024-06-17T08:58:41.067895Z",
     "shell.execute_reply": "2024-06-17T08:58:41.243828Z"
    },
    "trusted": true
   },
   "execution_count": 59,
   "outputs": [
    {
     "execution_count": 59,
     "output_type": "execute_result",
     "data": {
      "text/plain": "0.84074"
     },
     "metadata": {}
    }
   ]
  },
  {
   "cell_type": "code",
   "source": [
    "accuracy_score(y_test, xg_pred)"
   ],
   "metadata": {
    "execution": {
     "iopub.status.busy": "2024-06-17T08:58:41.246417Z",
     "iopub.execute_input": "2024-06-17T08:58:41.247123Z",
     "iopub.status.idle": "2024-06-17T08:58:41.260074Z",
     "shell.execute_reply.started": "2024-06-17T08:58:41.247072Z",
     "shell.execute_reply": "2024-06-17T08:58:41.259070Z"
    },
    "trusted": true
   },
   "execution_count": 60,
   "outputs": [
    {
     "execution_count": 60,
     "output_type": "execute_result",
     "data": {
      "text/plain": "0.84074"
     },
     "metadata": {}
    }
   ]
  },
  {
   "cell_type": "code",
   "source": [
    "#I am gonna use the XG BOOST (based on how closeness)"
   ],
   "metadata": {
    "scrolled": true,
    "execution": {
     "iopub.status.busy": "2024-06-17T08:58:41.261781Z",
     "iopub.execute_input": "2024-06-17T08:58:41.262599Z",
     "iopub.status.idle": "2024-06-17T08:58:41.266719Z",
     "shell.execute_reply.started": "2024-06-17T08:58:41.262533Z",
     "shell.execute_reply": "2024-06-17T08:58:41.265726Z"
    },
    "trusted": true
   },
   "execution_count": 61,
   "outputs": []
  },
  {
   "cell_type": "code",
   "source": [
    "tic = time.time()\n",
    "\n",
    "final_pred = xg.predict(test_data)\n",
    "\n",
    "toc = time.time()\n",
    "print('time taken', (toc - tic))"
   ],
   "metadata": {
    "scrolled": true,
    "execution": {
     "iopub.status.busy": "2024-06-17T09:00:57.271861Z",
     "iopub.execute_input": "2024-06-17T09:00:57.272304Z",
     "iopub.status.idle": "2024-06-17T09:00:59.716543Z",
     "shell.execute_reply.started": "2024-06-17T09:00:57.272267Z",
     "shell.execute_reply": "2024-06-17T09:00:59.714034Z"
    },
    "trusted": true
   },
   "execution_count": 62,
   "outputs": [
    {
     "name": "stdout",
     "text": "time taken 2.436607599258423\n",
     "output_type": "stream"
    }
   ]
  },
  {
   "cell_type": "code",
   "source": [
    "final_pred\n"
   ],
   "metadata": {
    "scrolled": true,
    "execution": {
     "iopub.status.busy": "2024-06-17T09:00:59.719538Z",
     "iopub.execute_input": "2024-06-17T09:00:59.720044Z",
     "iopub.status.idle": "2024-06-17T09:00:59.727295Z",
     "shell.execute_reply.started": "2024-06-17T09:00:59.719994Z",
     "shell.execute_reply": "2024-06-17T09:00:59.725985Z"
    },
    "trusted": true
   },
   "execution_count": 63,
   "outputs": [
    {
     "execution_count": 63,
     "output_type": "execute_result",
     "data": {
      "text/plain": "array([0, 0, 1, ..., 0, 0, 0], dtype=uint8)"
     },
     "metadata": {}
    }
   ]
  },
  {
   "cell_type": "code",
   "source": [
    "final_pred.shape"
   ],
   "metadata": {
    "scrolled": true,
    "execution": {
     "iopub.status.busy": "2024-06-17T09:00:59.729190Z",
     "iopub.execute_input": "2024-06-17T09:00:59.729723Z",
     "iopub.status.idle": "2024-06-17T09:00:59.743837Z",
     "shell.execute_reply.started": "2024-06-17T09:00:59.729663Z",
     "shell.execute_reply": "2024-06-17T09:00:59.742628Z"
    },
    "trusted": true
   },
   "execution_count": 64,
   "outputs": [
    {
     "execution_count": 64,
     "output_type": "execute_result",
     "data": {
      "text/plain": "(550000,)"
     },
     "metadata": {}
    }
   ]
  },
  {
   "cell_type": "code",
   "source": [
    "# AS WE KNOW S IS 1 AND B IS 0 "
   ],
   "metadata": {
    "scrolled": true,
    "execution": {
     "iopub.status.busy": "2024-06-17T09:01:01.367951Z",
     "iopub.execute_input": "2024-06-17T09:01:01.368399Z",
     "iopub.status.idle": "2024-06-17T09:01:01.372674Z",
     "shell.execute_reply.started": "2024-06-17T09:01:01.368350Z",
     "shell.execute_reply": "2024-06-17T09:01:01.371285Z"
    },
    "trusted": true
   },
   "execution_count": 65,
   "outputs": []
  },
  {
   "cell_type": "code",
   "source": [
    "final_pred = pd.DataFrame(final_pred)"
   ],
   "metadata": {
    "scrolled": true,
    "execution": {
     "iopub.status.busy": "2024-06-17T09:01:01.609711Z",
     "iopub.execute_input": "2024-06-17T09:01:01.610178Z",
     "iopub.status.idle": "2024-06-17T09:01:01.615350Z",
     "shell.execute_reply.started": "2024-06-17T09:01:01.610135Z",
     "shell.execute_reply": "2024-06-17T09:01:01.614138Z"
    },
    "trusted": true
   },
   "execution_count": 66,
   "outputs": []
  },
  {
   "cell_type": "code",
   "source": [
    "final_pred.replace(to_replace = (0, 1), value = ('b', 's'), inplace = True)"
   ],
   "metadata": {
    "scrolled": true,
    "execution": {
     "iopub.status.busy": "2024-06-17T09:01:01.911843Z",
     "iopub.execute_input": "2024-06-17T09:01:01.912253Z",
     "iopub.status.idle": "2024-06-17T09:01:01.949718Z",
     "shell.execute_reply.started": "2024-06-17T09:01:01.912217Z",
     "shell.execute_reply": "2024-06-17T09:01:01.948449Z"
    },
    "trusted": true
   },
   "execution_count": 67,
   "outputs": []
  },
  {
   "cell_type": "code",
   "source": [
    "final_pred"
   ],
   "metadata": {
    "execution": {
     "iopub.status.busy": "2024-06-17T09:01:02.265369Z",
     "iopub.execute_input": "2024-06-17T09:01:02.265874Z",
     "iopub.status.idle": "2024-06-17T09:01:02.282219Z",
     "shell.execute_reply.started": "2024-06-17T09:01:02.265833Z",
     "shell.execute_reply": "2024-06-17T09:01:02.280725Z"
    },
    "trusted": true
   },
   "execution_count": 68,
   "outputs": [
    {
     "execution_count": 68,
     "output_type": "execute_result",
     "data": {
      "text/plain": "        0\n0       b\n1       b\n2       s\n3       s\n4       b\n...    ..\n549995  b\n549996  b\n549997  b\n549998  b\n549999  b\n\n[550000 rows x 1 columns]",
      "text/html": "<div>\n<style scoped>\n    .dataframe tbody tr th:only-of-type {\n        vertical-align: middle;\n    }\n\n    .dataframe tbody tr th {\n        vertical-align: top;\n    }\n\n    .dataframe thead th {\n        text-align: right;\n    }\n</style>\n<table border=\"1\" class=\"dataframe\">\n  <thead>\n    <tr style=\"text-align: right;\">\n      <th></th>\n      <th>0</th>\n    </tr>\n  </thead>\n  <tbody>\n    <tr>\n      <th>0</th>\n      <td>b</td>\n    </tr>\n    <tr>\n      <th>1</th>\n      <td>b</td>\n    </tr>\n    <tr>\n      <th>2</th>\n      <td>s</td>\n    </tr>\n    <tr>\n      <th>3</th>\n      <td>s</td>\n    </tr>\n    <tr>\n      <th>4</th>\n      <td>b</td>\n    </tr>\n    <tr>\n      <th>...</th>\n      <td>...</td>\n    </tr>\n    <tr>\n      <th>549995</th>\n      <td>b</td>\n    </tr>\n    <tr>\n      <th>549996</th>\n      <td>b</td>\n    </tr>\n    <tr>\n      <th>549997</th>\n      <td>b</td>\n    </tr>\n    <tr>\n      <th>549998</th>\n      <td>b</td>\n    </tr>\n    <tr>\n      <th>549999</th>\n      <td>b</td>\n    </tr>\n  </tbody>\n</table>\n<p>550000 rows × 1 columns</p>\n</div>"
     },
     "metadata": {}
    }
   ]
  },
  {
   "cell_type": "code",
   "source": [
    "\n",
    "pred = eventid_test['EventId'] #this is why I created a copy in cell 24\n",
    "\n",
    "pred = pd.DataFrame(pred)\n",
    "pred"
   ],
   "metadata": {
    "scrolled": true,
    "execution": {
     "iopub.status.busy": "2024-06-17T09:01:02.504531Z",
     "iopub.execute_input": "2024-06-17T09:01:02.504991Z",
     "iopub.status.idle": "2024-06-17T09:01:02.520604Z",
     "shell.execute_reply.started": "2024-06-17T09:01:02.504951Z",
     "shell.execute_reply": "2024-06-17T09:01:02.519338Z"
    },
    "trusted": true
   },
   "execution_count": 69,
   "outputs": [
    {
     "execution_count": 69,
     "output_type": "execute_result",
     "data": {
      "text/plain": "        EventId\n0        350000\n1        350001\n2        350002\n3        350003\n4        350004\n...         ...\n549995   899995\n549996   899996\n549997   899997\n549998   899998\n549999   899999\n\n[550000 rows x 1 columns]",
      "text/html": "<div>\n<style scoped>\n    .dataframe tbody tr th:only-of-type {\n        vertical-align: middle;\n    }\n\n    .dataframe tbody tr th {\n        vertical-align: top;\n    }\n\n    .dataframe thead th {\n        text-align: right;\n    }\n</style>\n<table border=\"1\" class=\"dataframe\">\n  <thead>\n    <tr style=\"text-align: right;\">\n      <th></th>\n      <th>EventId</th>\n    </tr>\n  </thead>\n  <tbody>\n    <tr>\n      <th>0</th>\n      <td>350000</td>\n    </tr>\n    <tr>\n      <th>1</th>\n      <td>350001</td>\n    </tr>\n    <tr>\n      <th>2</th>\n      <td>350002</td>\n    </tr>\n    <tr>\n      <th>3</th>\n      <td>350003</td>\n    </tr>\n    <tr>\n      <th>4</th>\n      <td>350004</td>\n    </tr>\n    <tr>\n      <th>...</th>\n      <td>...</td>\n    </tr>\n    <tr>\n      <th>549995</th>\n      <td>899995</td>\n    </tr>\n    <tr>\n      <th>549996</th>\n      <td>899996</td>\n    </tr>\n    <tr>\n      <th>549997</th>\n      <td>899997</td>\n    </tr>\n    <tr>\n      <th>549998</th>\n      <td>899998</td>\n    </tr>\n    <tr>\n      <th>549999</th>\n      <td>899999</td>\n    </tr>\n  </tbody>\n</table>\n<p>550000 rows × 1 columns</p>\n</div>"
     },
     "metadata": {}
    }
   ]
  },
  {
   "cell_type": "code",
   "source": [
    "final_pred.rename(columns = {0: 'Class'}, inplace = True)"
   ],
   "metadata": {
    "execution": {
     "iopub.status.busy": "2024-06-17T09:01:02.724974Z",
     "iopub.execute_input": "2024-06-17T09:01:02.725466Z",
     "iopub.status.idle": "2024-06-17T09:01:02.737037Z",
     "shell.execute_reply.started": "2024-06-17T09:01:02.725361Z",
     "shell.execute_reply": "2024-06-17T09:01:02.735698Z"
    },
    "trusted": true
   },
   "execution_count": 70,
   "outputs": []
  },
  {
   "cell_type": "code",
   "source": [
    "# The RankOrder thing is the main reason for taking so much time in this poject\n",
    "# thanks to the discusssion page\n",
    "\n",
    "final_pred['RankOrder'] = final_pred['Class'].argsort().argsort() + 1  "
   ],
   "metadata": {
    "execution": {
     "iopub.status.busy": "2024-06-17T09:01:03.270985Z",
     "iopub.execute_input": "2024-06-17T09:01:03.271414Z",
     "iopub.status.idle": "2024-06-17T09:01:04.066223Z",
     "shell.execute_reply.started": "2024-06-17T09:01:03.271378Z",
     "shell.execute_reply": "2024-06-17T09:01:04.064935Z"
    },
    "trusted": true
   },
   "execution_count": 71,
   "outputs": []
  },
  {
   "cell_type": "code",
   "source": [
    "final_pred = final_pred[['RankOrder', 'Class']]"
   ],
   "metadata": {
    "execution": {
     "iopub.status.busy": "2024-06-17T09:01:04.068699Z",
     "iopub.execute_input": "2024-06-17T09:01:04.069110Z",
     "iopub.status.idle": "2024-06-17T09:01:04.086446Z",
     "shell.execute_reply.started": "2024-06-17T09:01:04.069069Z",
     "shell.execute_reply": "2024-06-17T09:01:04.084873Z"
    },
    "trusted": true
   },
   "execution_count": 72,
   "outputs": []
  },
  {
   "cell_type": "code",
   "source": [
    "final_pred"
   ],
   "metadata": {
    "scrolled": true,
    "execution": {
     "iopub.status.busy": "2024-06-17T09:01:04.088003Z",
     "iopub.execute_input": "2024-06-17T09:01:04.088410Z",
     "iopub.status.idle": "2024-06-17T09:01:04.123234Z",
     "shell.execute_reply.started": "2024-06-17T09:01:04.088370Z",
     "shell.execute_reply": "2024-06-17T09:01:04.121542Z"
    },
    "trusted": true
   },
   "execution_count": 73,
   "outputs": [
    {
     "execution_count": 73,
     "output_type": "execute_result",
     "data": {
      "text/plain": "        RankOrder Class\n0               1     b\n1          348129     b\n2          399275     s\n3          399272     s\n4          348135     b\n...           ...   ...\n549995     151572     b\n549996     151571     b\n549997     151570     b\n549998     100025     b\n549999     227370     b\n\n[550000 rows x 2 columns]",
      "text/html": "<div>\n<style scoped>\n    .dataframe tbody tr th:only-of-type {\n        vertical-align: middle;\n    }\n\n    .dataframe tbody tr th {\n        vertical-align: top;\n    }\n\n    .dataframe thead th {\n        text-align: right;\n    }\n</style>\n<table border=\"1\" class=\"dataframe\">\n  <thead>\n    <tr style=\"text-align: right;\">\n      <th></th>\n      <th>RankOrder</th>\n      <th>Class</th>\n    </tr>\n  </thead>\n  <tbody>\n    <tr>\n      <th>0</th>\n      <td>1</td>\n      <td>b</td>\n    </tr>\n    <tr>\n      <th>1</th>\n      <td>348129</td>\n      <td>b</td>\n    </tr>\n    <tr>\n      <th>2</th>\n      <td>399275</td>\n      <td>s</td>\n    </tr>\n    <tr>\n      <th>3</th>\n      <td>399272</td>\n      <td>s</td>\n    </tr>\n    <tr>\n      <th>4</th>\n      <td>348135</td>\n      <td>b</td>\n    </tr>\n    <tr>\n      <th>...</th>\n      <td>...</td>\n      <td>...</td>\n    </tr>\n    <tr>\n      <th>549995</th>\n      <td>151572</td>\n      <td>b</td>\n    </tr>\n    <tr>\n      <th>549996</th>\n      <td>151571</td>\n      <td>b</td>\n    </tr>\n    <tr>\n      <th>549997</th>\n      <td>151570</td>\n      <td>b</td>\n    </tr>\n    <tr>\n      <th>549998</th>\n      <td>100025</td>\n      <td>b</td>\n    </tr>\n    <tr>\n      <th>549999</th>\n      <td>227370</td>\n      <td>b</td>\n    </tr>\n  </tbody>\n</table>\n<p>550000 rows × 2 columns</p>\n</div>"
     },
     "metadata": {}
    }
   ]
  },
  {
   "cell_type": "code",
   "source": [
    "result = [pred, final_pred]\n",
    "\n",
    "\n",
    "final_pred = pd.concat(result, axis =1)"
   ],
   "metadata": {
    "execution": {
     "iopub.status.busy": "2024-06-17T09:01:04.125246Z",
     "iopub.execute_input": "2024-06-17T09:01:04.125957Z",
     "iopub.status.idle": "2024-06-17T09:01:04.150085Z",
     "shell.execute_reply.started": "2024-06-17T09:01:04.125880Z",
     "shell.execute_reply": "2024-06-17T09:01:04.148689Z"
    },
    "trusted": true
   },
   "execution_count": 74,
   "outputs": []
  },
  {
   "cell_type": "code",
   "source": [
    "final_pred"
   ],
   "metadata": {
    "execution": {
     "iopub.status.busy": "2024-06-17T09:01:04.442340Z",
     "iopub.execute_input": "2024-06-17T09:01:04.442812Z",
     "iopub.status.idle": "2024-06-17T09:01:04.462198Z",
     "shell.execute_reply.started": "2024-06-17T09:01:04.442771Z",
     "shell.execute_reply": "2024-06-17T09:01:04.460789Z"
    },
    "trusted": true
   },
   "execution_count": 75,
   "outputs": [
    {
     "execution_count": 75,
     "output_type": "execute_result",
     "data": {
      "text/plain": "        EventId  RankOrder Class\n0        350000          1     b\n1        350001     348129     b\n2        350002     399275     s\n3        350003     399272     s\n4        350004     348135     b\n...         ...        ...   ...\n549995   899995     151572     b\n549996   899996     151571     b\n549997   899997     151570     b\n549998   899998     100025     b\n549999   899999     227370     b\n\n[550000 rows x 3 columns]",
      "text/html": "<div>\n<style scoped>\n    .dataframe tbody tr th:only-of-type {\n        vertical-align: middle;\n    }\n\n    .dataframe tbody tr th {\n        vertical-align: top;\n    }\n\n    .dataframe thead th {\n        text-align: right;\n    }\n</style>\n<table border=\"1\" class=\"dataframe\">\n  <thead>\n    <tr style=\"text-align: right;\">\n      <th></th>\n      <th>EventId</th>\n      <th>RankOrder</th>\n      <th>Class</th>\n    </tr>\n  </thead>\n  <tbody>\n    <tr>\n      <th>0</th>\n      <td>350000</td>\n      <td>1</td>\n      <td>b</td>\n    </tr>\n    <tr>\n      <th>1</th>\n      <td>350001</td>\n      <td>348129</td>\n      <td>b</td>\n    </tr>\n    <tr>\n      <th>2</th>\n      <td>350002</td>\n      <td>399275</td>\n      <td>s</td>\n    </tr>\n    <tr>\n      <th>3</th>\n      <td>350003</td>\n      <td>399272</td>\n      <td>s</td>\n    </tr>\n    <tr>\n      <th>4</th>\n      <td>350004</td>\n      <td>348135</td>\n      <td>b</td>\n    </tr>\n    <tr>\n      <th>...</th>\n      <td>...</td>\n      <td>...</td>\n      <td>...</td>\n    </tr>\n    <tr>\n      <th>549995</th>\n      <td>899995</td>\n      <td>151572</td>\n      <td>b</td>\n    </tr>\n    <tr>\n      <th>549996</th>\n      <td>899996</td>\n      <td>151571</td>\n      <td>b</td>\n    </tr>\n    <tr>\n      <th>549997</th>\n      <td>899997</td>\n      <td>151570</td>\n      <td>b</td>\n    </tr>\n    <tr>\n      <th>549998</th>\n      <td>899998</td>\n      <td>100025</td>\n      <td>b</td>\n    </tr>\n    <tr>\n      <th>549999</th>\n      <td>899999</td>\n      <td>227370</td>\n      <td>b</td>\n    </tr>\n  </tbody>\n</table>\n<p>550000 rows × 3 columns</p>\n</div>"
     },
     "metadata": {}
    }
   ]
  },
  {
   "cell_type": "code",
   "source": [
    "# the weights for s are globally less than the weights for b"
   ],
   "metadata": {
    "scrolled": true,
    "execution": {
     "iopub.status.busy": "2024-06-17T09:01:05.334817Z",
     "iopub.execute_input": "2024-06-17T09:01:05.335283Z",
     "iopub.status.idle": "2024-06-17T09:01:05.341085Z",
     "shell.execute_reply.started": "2024-06-17T09:01:05.335236Z",
     "shell.execute_reply": "2024-06-17T09:01:05.339644Z"
    },
    "trusted": true
   },
   "execution_count": 76,
   "outputs": []
  },
  {
   "cell_type": "code",
   "source": [
    "\n",
    "sns.countplot(final_pred['Class'])"
   ],
   "metadata": {
    "scrolled": true,
    "execution": {
     "iopub.status.busy": "2024-06-17T09:01:05.705238Z",
     "iopub.execute_input": "2024-06-17T09:01:05.705732Z",
     "iopub.status.idle": "2024-06-17T09:01:06.069884Z",
     "shell.execute_reply.started": "2024-06-17T09:01:05.705671Z",
     "shell.execute_reply": "2024-06-17T09:01:06.068850Z"
    },
    "trusted": true
   },
   "execution_count": 77,
   "outputs": [
    {
     "execution_count": 77,
     "output_type": "execute_result",
     "data": {
      "text/plain": "<matplotlib.axes._subplots.AxesSubplot at 0x7af09aad5c90>"
     },
     "metadata": {}
    },
    {
     "output_type": "display_data",
     "data": {
      "text/plain": "<Figure size 432x288 with 1 Axes>",
      "image/png": "[encoded data removed]"
     },
     "metadata": {
      "needs_background": "light"
     }
    }
   ]
  },
  {
   "cell_type": "code",
   "source": [
    "final_pred['Class'].value_counts().index"
   ],
   "metadata": {
    "execution": {
     "iopub.status.busy": "2024-06-17T09:01:06.073767Z",
     "iopub.execute_input": "2024-06-17T09:01:06.074154Z",
     "iopub.status.idle": "2024-06-17T09:01:06.216759Z",
     "shell.execute_reply.started": "2024-06-17T09:01:06.074118Z",
     "shell.execute_reply": "2024-06-17T09:01:06.215732Z"
    },
    "trusted": true
   },
   "execution_count": 78,
   "outputs": [
    {
     "execution_count": 78,
     "output_type": "execute_result",
     "data": {
      "text/plain": "Index(['b', 's'], dtype='object')"
     },
     "metadata": {}
    }
   ]
  },
  {
   "cell_type": "code",
   "source": [
    "final_pred['Class'].value_counts().values"
   ],
   "metadata": {
    "scrolled": true,
    "execution": {
     "iopub.status.busy": "2024-06-17T09:01:06.310064Z",
     "iopub.execute_input": "2024-06-17T09:01:06.310602Z",
     "iopub.status.idle": "2024-06-17T09:01:06.452203Z",
     "shell.execute_reply.started": "2024-06-17T09:01:06.310535Z",
     "shell.execute_reply": "2024-06-17T09:01:06.450929Z"
    },
    "trusted": true
   },
   "execution_count": 79,
   "outputs": [
    {
     "execution_count": 79,
     "output_type": "execute_result",
     "data": {
      "text/plain": "array([386943, 163057])"
     },
     "metadata": {}
    }
   ]
  },
  {
   "cell_type": "code",
   "source": [
    "# NOW IT\\S TIME TO SUBMIT \n",
    "\n",
    "final_pred.to_csv('submission2rf.csv')"
   ],
   "metadata": {
    "execution": {
     "iopub.status.busy": "2024-06-17T09:01:06.502230Z",
     "iopub.execute_input": "2024-06-17T09:01:06.502712Z",
     "iopub.status.idle": "2024-06-17T09:01:08.673081Z",
     "shell.execute_reply.started": "2024-06-17T09:01:06.502663Z",
     "shell.execute_reply": "2024-06-17T09:01:08.671315Z"
    },
    "trusted": true
   },
   "execution_count": 80,
   "outputs": []
  },
  {
   "cell_type": "code",
   "source": [],
   "metadata": {},
   "execution_count": null,
   "outputs": []
  },
  {
   "cell_type": "code",
   "source": [],
   "metadata": {},
   "execution_count": null,
   "outputs": []
  }
 ]
}
