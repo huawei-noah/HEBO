{
 "cells": [
  {
   "cell_type": "markdown",
   "metadata": {},
   "source": [
    "# How to use Agent\n",
    "\n",
    "In this notebook we look at simple ways to get started with using Agent.\n",
    "\n",
    "Note: Please make sure you have first installed all dependencies of Agent, following the installation guide!"
   ]
  },
  {
   "cell_type": "markdown",
   "metadata": {},
   "source": [
    "## Simple run with start.py\n",
    "\n",
    "Agent can be run very easily with the default run script `start.py`, which tries to solve the given task, using the given backend LLM and the given method. For exmaple if we want to try to solve questions from the GSM8k task, using OpenChat-3.5 and direct prompting:"
   ]
  },
  {
   "cell_type": "markdown",
   "metadata": {},
   "source": [
    "! python ../src/agent/start.py task=gsm8k method=direct llm@agent.llm=openchat_3.5 max_episodes=3"
   ]
  },
  {
   "cell_type": "markdown",
   "metadata": {},
   "source": [
    "## Using different compoennts for your own purposes\n",
    "\n",
    "You can also the use Agent for your own, customized, purposes. First, initialize the hydra configuration with your desired parameters (method, task, llm, experiment name):"
   ]
  },
  {
   "cell_type": "code",
   "execution_count": null,
   "metadata": {},
   "outputs": [],
   "source": [
    "import hydra\n",
    "import pyrootutils\n",
    "from hydra import compose, initialize\n",
    "\n",
    "from agent.loggers import ManyLoggers, Tag\n",
    "from agent.utils import pylogger\n",
    "\n",
    "pyrootutils.setup_root(\"..\", indicator=\".project-root\", pythonpath=True)\n",
    "log = pylogger.get_pylogger(__name__)\n",
    "\n",
    "with initialize(version_base=\"1.3\", config_path=\"../configs\"):\n",
    "    cfg = compose(\n",
    "        config_name=\"default_notebooks.yaml\",\n",
    "        return_hydra_config=True,\n",
    "        overrides=[\n",
    "            \"method=direct\",\n",
    "            \"task=gsm8k\",\n",
    "            \"llm@agent.llm=hf/llama-7b\",\n",
    "            \"experiment_name=test\",\n",
    "            \"logger=stdout_logger\",\n",
    "        ],\n",
    "    )"
   ]
  },
  {
   "cell_type": "markdown",
   "metadata": {},
   "source": [
    "Then the different components of Agent can be instantiated:"
   ]
  },
  {
   "cell_type": "code",
   "execution_count": null,
   "metadata": {},
   "outputs": [],
   "source": [
    "logger = ManyLoggers(\n",
    "    loggers=[\n",
    "        hydra.utils.instantiate(logger, project_cfg=cfg, _recursive_=False)\n",
    "        for logger in cfg.logger.values()\n",
    "    ]\n",
    ")\n",
    "agent = hydra.utils.instantiate(cfg.agent, logger=logger)\n",
    "task = hydra.utils.instantiate(cfg.task)"
   ]
  },
  {
   "cell_type": "markdown",
   "metadata": {},
   "source": [
    "Start the agent's init flow if present and reset the task and agent, as well as starting the agent's episode start flow:"
   ]
  },
  {
   "cell_type": "code",
   "execution_count": null,
   "metadata": {},
   "outputs": [],
   "source": [
    "agent.run_on_init_flow()\n",
    "\n",
    "obs = task.reset()\n",
    "agent.reset(task)\n",
    "\n",
    "agent.run_on_episode_start_flow()"
   ]
  },
  {
   "cell_type": "markdown",
   "metadata": {},
   "source": [
    "Now the agent and task can be used as desired.\n",
    "\n",
    "The agent can observe information about the environment:"
   ]
  },
  {
   "cell_type": "code",
   "execution_count": null,
   "metadata": {},
   "outputs": [],
   "source": [
    "agent.observe(obs)"
   ]
  },
  {
   "cell_type": "markdown",
   "metadata": {},
   "source": [
    "The agent's pre-action flow can be run (which ends with the agent choosing an external action):"
   ]
  },
  {
   "cell_type": "code",
   "execution_count": null,
   "metadata": {},
   "outputs": [],
   "source": [
    "agent.run_pre_action_flow()"
   ]
  },
  {
   "cell_type": "markdown",
   "metadata": {},
   "source": [
    "The agent's chosen external action can be executed in the task:"
   ]
  },
  {
   "cell_type": "code",
   "execution_count": null,
   "metadata": {},
   "outputs": [],
   "source": [
    "obs, rew, done = task.step(agent.external_action)"
   ]
  },
  {
   "cell_type": "markdown",
   "metadata": {},
   "source": [
    "Any post-action flow can be run if present:"
   ]
  },
  {
   "cell_type": "code",
   "execution_count": null,
   "metadata": {},
   "outputs": [],
   "source": [
    "agent.run_post_action_flow()"
   ]
  },
  {
   "cell_type": "markdown",
   "metadata": {},
   "source": [
    "Multiple rounds of agent observing, pre/post action flows and task steps can be run.\n",
    "\n",
    "Once an episode ends, the post-episode flow can be run:"
   ]
  },
  {
   "cell_type": "code",
   "execution_count": null,
   "metadata": {},
   "outputs": [],
   "source": [
    "agent.run_on_episode_end_flow()"
   ]
  },
  {
   "cell_type": "markdown",
   "metadata": {},
   "source": [
    "At any point, metrics can be logged:"
   ]
  },
  {
   "cell_type": "code",
   "execution_count": null,
   "metadata": {},
   "outputs": [],
   "source": [
    "logger.log_metrics({Tag.REWARD: rew, Tag.DONE: done})"
   ]
  },
  {
   "cell_type": "markdown",
   "metadata": {},
   "source": [
    "And the logs can be saved:"
   ]
  },
  {
   "cell_type": "code",
   "execution_count": null,
   "metadata": {},
   "outputs": [],
   "source": [
    "logger.save_metrics()"
   ]
  }
 ],
 "metadata": {
  "kernelspec": {
   "display_name": "venv_test",
   "language": "python",
   "name": "python3"
  },
  "language_info": {
   "codemirror_mode": {
    "name": "ipython",
    "version": 3
   },
   "file_extension": ".py",
   "mimetype": "text/x-python",
   "name": "python",
   "nbconvert_exporter": "python",
   "pygments_lexer": "ipython3",
   "version": "3.10.13"
  }
 },
 "nbformat": 4,
 "nbformat_minor": 2
}
