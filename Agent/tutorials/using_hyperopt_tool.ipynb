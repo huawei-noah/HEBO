{
 "cells": [
  {
   "cell_type": "markdown",
   "id": "86a4a5ee-589e-41e2-88ac-a855be993cf1",
   "metadata": {
    "collapsed": true
   },
   "source": [
    "# Hyperparameter Optimization with Agent\n",
    "In this notebook we give an example of how to use the agent framework to let the agent do a hyperparameter optimization of the user-provided code."
   ]
  },
  {
   "cell_type": "markdown",
   "id": "8951854a-fa55-456f-9ff5-d73e08b203e9",
   "metadata": {},
   "source": [
    "#### Run the task\n",
    "Let's take a look at the command we will run at the end of this tutorial to get a high-level idea of what components we need to understand and in what order.\n",
    "From the `agent/` directory, run the following command in your command line"
   ]
  },
  {
   "cell_type": "markdown",
   "id": "a9dc1f9f-06bf-46db-b95e-72100360c674",
   "metadata": {},
   "source": [
    "```bash\n",
    "$ python -u src/agent/start.py task=hyperopt_interact llm@agent.llm=fschat/deepseek-coder-7b-instruct-v1.5 method=direct-hyperopt\n",
    "```"
   ]
  },
  {
   "cell_type": "markdown",
   "id": "98d670ff-10d5-4cc4-b554-167a658f5b13",
   "metadata": {},
   "source": [
    "First, we see that we need a `task=hyperopt_interact`. This defined through a `configs/task/hyperopt_interact.yaml` file that points to the `HyperOptTask` class.\n",
    "Then we notice that we have an LLM agent with the backend being [fschat/deepseek-coder-6.7b-instruct](https://huggingface.co/deepseek-ai/deepseek-coder-6.7b-instruct). This is configured in the `configs/llm/fschat/` directory.\n",
    "Finally, we have to define a `method=direct-hyperopt` through a `configs/method/direct-hyperopt.yaml` file that describes the sequence of actions the agent needs to execute in order to do the task.\n",
    "\n",
    "This notebook will have the following structure:\n",
    "- Structure your workspace as expected by the task\n",
    "- Look at the pre-defined configurations (`task` and `method`)\n",
    "- Give some information regarding the code, the inner workings of the task\n",
    "- Additional details about Bayesian Optimization and in particular the HEBO algorithm\n",
    "- Finally, dive into the example `code.py`"
   ]
  },
  {
   "cell_type": "markdown",
   "id": "5dc905b3-9282-4af2-bb08-8fee67881f4f",
   "metadata": {},
   "source": [
    "#### Working Example\n",
    "The example we use in this tutorial is the code for a Kaggle competition, namely the [spaceship-titanic competition](https://www.kaggle.com/competitions/spaceship-titanic).\n",
    "We give a code example adapted from a public notebook and show how to optimize the model hyperparameters automatically with the `agent` framework.\n",
    "This is an example of a kaggle competition code adapted from [this notebook](https://www.kaggle.com/code/mikhailnaumov/spaceship-titanic).\n",
    "This code is saved in `./worspace/code/code.py`.\n",
    "The data associated with the competition can be downloaded [here](https://www.kaggle.com/competitions/spaceship-titanic/data) and saved into `./workspace/data/train.csv`.."
   ]
  },
  {
   "cell_type": "markdown",
   "id": "de94f90a-a60d-4196-b835-01d259ca63bd",
   "metadata": {},
   "source": [
    "## Structure your Workspace\n",
    "Start by creating a workspace with the following files:"
   ]
  },
  {
   "cell_type": "markdown",
   "id": "3e9a39c7-efca-4c26-9ad9-e60d775111b2",
   "metadata": {},
   "source": [
    "```\n",
    "agent/\n",
    " | workspace/\n",
    " | | hyperopt/\n",
    " | | python_path.txt\n",
    " | | | code/\n",
    " | | | | code.py      \n",
    " | | | data/\n",
    " | | | | train.csv  \n",
    "``` "
   ]
  },
  {
   "cell_type": "markdown",
   "id": "ddfdda67-6777-48e3-84e5-77f09d219deb",
   "metadata": {},
   "source": [
    "#### Your python environment\n",
    "Because the `agent` will run your python script, it needs to be aware of the path to your interpreter.\n",
    "Make sure to have the path to your python interpreter inside `python_path.txt`."
   ]
  },
  {
   "cell_type": "markdown",
   "id": "d453ba98-f132-42c0-a5f2-3fec54f236bf",
   "metadata": {},
   "source": [
    "## Configure your Task and your Flow\n",
    "First you need the configuration file related to the task. \n",
    "This is already pre-defined in `configs/task/hyperopt_interact.yaml`.\n",
    "It specifies where the task class is.\n",
    "It also has some default details about the agent which are overwritten in the command line command from above."
   ]
  },
  {
   "cell_type": "markdown",
   "id": "adf88b49-f59a-4414-9230-23c9375cfb9d",
   "metadata": {},
   "source": [
    "```yaml\n",
    "# @package _global_\n",
    "agent:\n",
    "  pre_action_flow: ???\n",
    "  prompt_builder:\n",
    "    template_paths:\n",
    "      - hypefault\n",
    "\n",
    "task:\n",
    "  _target_: agent.tasks.hyperoptHyperOpt\n",
    "\n",
    "  workspace_path: ./workspae/hyperopt\n",
    "\n",
    "  name: hyperopt\n",
    "  description:\n",
    "  subtask: null\n",
    "  version: v0.1\n",
    "\n",
    "max_episodes: 1\n",
    "max_env_steps: 1\n",
    "```"
   ]
  },
  {
   "cell_type": "markdown",
   "id": "cdf0a817-b614-4459-b947-0a46b1a39d92",
   "metadata": {},
   "source": [
    "To run the task, you need to create a `Flow` which is pre-defined `configs/method/direct-hyperopt.yaml`.\n",
    "That file describes the sequence of commands that the Agent will follow.\n",
    "In our case, we have a `LoopFlow` of a `DecisionFlow`. \n",
    "At each step of the `LoopFlow`, the agent can choose between two commands: `'optimize'` and `'terminate'`. \n",
    "- `'optimize'`: command `UseTool` with `HyperOpt` tool: run `HEBO` on the hyperparameters of the model found in `code.py` and overwrite the code with their optimal value\n",
    "- `'terminate'`: command `Act`: terminate the process"
   ]
  },
  {
   "cell_type": "markdown",
   "id": "c9737935-8c20-4bd3-a0fe-038cffdb44bc",
   "metadata": {},
   "source": [
    "```yaml\n",
    "# @package _global_\n",
    "agent:\n",
    "  pre_action_flow:\n",
    "    _target_: agent.commands.SequentialFlow\n",
    "    name: hyperopt_example\n",
    "    description: Entire HyperOpt pipeline example\n",
    "    sequence:\n",
    "      - _target_: agent.commands.LoopFlow\n",
    "        max_repetitions: 2\n",
    "        allow_early_break: true\n",
    "        loop_body:\n",
    "          _target_: agent.commands.UseTool\n",
    "          prompt_template: hyperopt.jinja\n",
    "          tool:\n",
    "            _target_: agent.tools.hyperopt_tool.HyperOptTool\n",
    "            bo_steps: 2\n",
    "            path_to_python: './workspace/hyperopt/python_path.txt'\n",
    "            workspace_path: ${task.workspace_path}\n",
    "      - _target_: agent.commands.Act\n",
    "        name: terminate\n",
    "        description: save model script with final optimized hyperparameters\n",
    "  prompt_builder:\n",
    "    template_paths: [ \"hyperopt/\" ]\n",
    "    default_kwargs:\n",
    "      cot_type: zero_shot\n",
    "```"
   ]
  },
  {
   "cell_type": "markdown",
   "id": "ae35f764-29c4-41e2-bc87-8772c40f08de",
   "metadata": {},
   "source": [
    "## The Task, the Tool and the BO"
   ]
  },
  {
   "cell_type": "markdown",
   "id": "965c5608-2649-42f0-870b-c9ea14c0fbb2",
   "metadata": {},
   "source": [
    "##### Details about the HyperOptTool\n",
    "The agent receives the model code from `code.py` and identifies the part that is related to the model. \n",
    "It identifies the hyperparameters of that model (i.e. the ones exposed in your code, e.g. as kwargs) and writes a `DesignSpace` object. \n",
    "This object is the search space for `HEBO` that defines which parameters of the model to tune and what values they are allowed to take. \n",
    "The code in `code.py` is then _wrapped_ in a BO loop in which the model parameters will be changed according to the BO algorithm.\n",
    "After the specified amount of steps, the best parameters will be written in the code, overwriting the original ones.\n",
    "The final code will be saved in `workspace/hyperopt/code/best_code.py` while the original code will remain untouched in `workspace/hyperopt/code/code.py`."
   ]
  },
  {
   "cell_type": "markdown",
   "id": "227e6db4-f953-4552-9102-89c0e1e55e09",
   "metadata": {},
   "source": [
    "##### Details about HEBO\n",
    "[`HEBO`](https://arxiv.org/abs/2012.03826) is a Bayesian Optimization algorithm that comes with a library that can be simply `pip`-installed, has a simple API and works well for a large variety of black-box optimization tasks.\n",
    "It requires a `DesignSpace` object to run, which is essentially a dictionary that describes each hyperparameter with its name, type and space of definition."
   ]
  },
  {
   "cell_type": "markdown",
   "id": "433056fc-6628-477a-a504-7aef25e7c9d6",
   "metadata": {},
   "source": [
    "## Let's Dive into the Code!\n",
    "The file `code.py` is the code that loads the `train.csv` file, fits the model and prints the score metric.\n",
    "At the end of the process, this code will be copied and the model parameters will be overwritten with optimal hyperparameters found by the HEBO algorithm."
   ]
  },
  {
   "cell_type": "markdown",
   "id": "60ad8b1a-4872-4482-bfad-bf58513dea0f",
   "metadata": {},
   "source": [
    "##### Additional Instructions\n",
    "Make sure that the *modelling* part of your code, i.e. the part you want to opitmize with `HyperOptTask` is between special markers `# @MODEL_START@` and `# @MODEL_END@` so that the model code can be extracted easily and added to the agent prompt.\n",
    "Make sure that in your code the last line in a `print` statement, `print(\"ACCURACY:\", accuracy)` if it is a classification task and `print(\"R2_SCORE:\", r2_score)` if it is a regression task.\n",
    "\n",
    "The full code is given further below but for now let's focus on each part separately"
   ]
  },
  {
   "cell_type": "markdown",
   "id": "c32ba1b8-5813-47b2-9f42-4fab968ec4cc",
   "metadata": {},
   "source": [
    "##### Loading the data\n",
    "Here we load the data, reset the index of the dataframes and split into train and validation"
   ]
  },
  {
   "cell_type": "markdown",
   "id": "6297889c-9cae-4e1c-b3e5-d0dc3754fb08",
   "metadata": {},
   "source": [
    "```python\n",
    "import pandas as pd\n",
    "import numpy as np\n",
    "from catboost import CatBoostClassifier, Pool\n",
    "from sklearn.impute import KNNImputer\n",
    "\n",
    "train_data = pd.read_csv(\"./workspace/hyperopt/data/train.csv\", index_col=0)\n",
    "n = train_data.shape[0]\n",
    "train, val = train_data.iloc[:int(n * 0.8)], train_data.iloc[int(n * 0.8):]\n",
    "train.reset_index(drop=True, inplace=True)\n",
    "val.reset_index(drop=True, inplace=True)\n",
    "```"
   ]
  },
  {
   "cell_type": "markdown",
   "id": "5cc07525-0450-4406-aa4f-72a3d9b8548c",
   "metadata": {},
   "source": [
    "##### Feature engineering\n",
    "Here the features are created, mainly it is a matter of creating Age groups and treating columns related to expenses.\n",
    "We also need to convert categorical variables into numerical variables for the model."
   ]
  },
  {
   "cell_type": "markdown",
   "id": "2f92d118-75a8-4f29-b1bb-717e15905c81",
   "metadata": {},
   "source": [
    "```python\n",
    "Expenses_columns = ['RoomService', 'FoodCourt', 'Spa', 'VRDeck', 'ShoppingMall']\n",
    "\n",
    "\n",
    "def features(data):\n",
    "    data.loc['Age_group'] = 0\n",
    "    data.loc[(train['Age'] > 0) & (data['Age'] <= 5), 'Age_group'] = 1\n",
    "    data.loc[(train['Age'] > 5) & (data['Age'] <= 10), 'Age_group'] = 2\n",
    "    data.loc[(train['Age'] > 10) & (data['Age'] <= 20), 'Age_group'] = 3\n",
    "    data.loc[(train['Age'] > 20) & (data['Age'] <= 30), 'Age_group'] = 4\n",
    "    data.loc[(train['Age'] > 30) & (data['Age'] <= 50), 'Age_group'] = 5\n",
    "    data.loc[(train['Age'] > 50) & (data['Age'] <= 60), 'Age_group'] = 6\n",
    "    data.loc[(train['Age'] > 60) & (data['Age'] <= 70), 'Age_group'] = 7\n",
    "    data.loc[(train['Age'] > 70) & (data['Age'] <= 100), 'Age_group'] = 8\n",
    "    data.Age_group = data.Age_group.astype(float)\n",
    "\n",
    "    data['RoomService'] = np.where(data['CryoSleep'] == True, 0, data['RoomService'])\n",
    "    data['FoodCourt'] = np.where(data['CryoSleep'] == True, 0, data['FoodCourt'])\n",
    "    data['ShoppingMall'] = np.where(data['CryoSleep'] == True, 0, data['ShoppingMall'])\n",
    "    data['Spa'] = np.where(data['CryoSleep'] == True, 0, data['Spa'])\n",
    "    data['VRDeck'] = np.where(data['CryoSleep'] == True, 0, data['VRDeck'])\n",
    "\n",
    "    data['Group'] = data['PassengerId'].astype(str).str[:4].astype(float)\n",
    "    data[['Deck', 'Number', 'Side']] = data['Cabin'].str.split('/', expand=True)\n",
    "\n",
    "    data['Expenses'] = data.loc[:, Expenses_columns].sum(axis=1)\n",
    "    data.loc[:, ['CryoSleep']] = data.apply(lambda x: True if x.Expenses == 0 and pd.isna(x.CryoSleep) else x, axis=1)\n",
    "    data['VIP'] = np.where(data['CryoSleep'] == 0, True, False).astype(object)\n",
    "\n",
    "    data['Name'] = data['Name'].fillna('Unknown Unknown')\n",
    "    data.loc[:, ['Surname']] = data.Name.str.split(expand=True)[1]\n",
    "\n",
    "    return data\n",
    "\n",
    "\n",
    "train = features(train.copy())\n",
    "val = features(val.copy())\n",
    "```"
   ]
  },
  {
   "cell_type": "markdown",
   "id": "c1604630-11b3-4445-ab9e-b4c660959ce1",
   "metadata": {},
   "source": [
    "##### Drop target column and ID "
   ]
  },
  {
   "cell_type": "markdown",
   "id": "0495ce6b-2f89-4b89-946b-acf78656f0bd",
   "metadata": {},
   "source": [
    "```python\n",
    "train = train.drop(['PassengerId', 'Name', 'Cabin'], axis=1)\n",
    "val = val.drop(['PassengerId', 'Name', 'Cabin'], axis=1)\n",
    "X_train = train.drop('Transported', axis=1)\n",
    "y_train = train.Transported.astype('int')\n",
    "X_val = val.drop('Transported', axis=1)\n",
    "y_val = val.Transported.astype('int')\n",
    "```"
   ]
  },
  {
   "cell_type": "markdown",
   "id": "99560f88-4373-4d88-8a5d-9e112739db47",
   "metadata": {},
   "source": [
    "##### Fill Missing Values"
   ]
  },
  {
   "cell_type": "markdown",
   "id": "fa2c5361-27c9-496b-8dbd-8e43437badf4",
   "metadata": {},
   "source": [
    "```python\n",
    "imputer = KNNImputer(n_neighbors=5)\n",
    "num_features = X_train.select_dtypes('float64').columns.to_list()\n",
    "cat_features = X_train.select_dtypes('object').columns.to_list()\n",
    "\n",
    "\n",
    "def missing(data):\n",
    "    data[cat_features] = data[cat_features].infer_objects(copy=False).fillna('None').astype('category')\n",
    "    data[num_features] = imputer.fit_transform(data[num_features])\n",
    "    return  data\n",
    "\n",
    "\n",
    "X_train = missing(X_train)\n",
    "X_val = missing(X_val)\n",
    "```"
   ]
  },
  {
   "cell_type": "markdown",
   "id": "b01e2bc9-4ed0-478c-9be5-86aa767960ec",
   "metadata": {},
   "source": [
    "##### Fit Model\n",
    "Please note that here we mark this part of the code with the patters mentionned above."
   ]
  },
  {
   "cell_type": "markdown",
   "id": "4bcb76fb-3a00-4f90-9b5d-8aff2d6af0cd",
   "metadata": {},
   "source": [
    "```python\n",
    "# @MODEL_START@\n",
    "cat = CatBoostClassifier(learning_rate=0.01, depth=9, l2_leaf_reg=8, random_state=42, eval_metric='Accuracy', iterations=300, early_stopping_rounds=20)\n",
    "train_pool = Pool(X_train, y_train, cat_features=cat_features)\n",
    "cat.fit(train_pool)\n",
    "# @MODEL_END@\n",
    "```"
   ]
  },
  {
   "cell_type": "markdown",
   "id": "542625fe-4fbb-4329-9c01-b4232fd86f68",
   "metadata": {},
   "source": [
    "##### Make final prediction"
   ]
  },
  {
   "cell_type": "markdown",
   "id": "52a8804e-5bb3-4322-ad75-10d4e3fe6890",
   "metadata": {},
   "source": [
    "```python\n",
    "val_preds = []\n",
    "results = []\n",
    "y_pred_val = cat.predict(X_val)\n",
    "accuracy = (y_pred_val == np.array(y_val)).sum() / len(y_val)\n",
    "print(\"ACCURACY:\", accuracy)\n",
    "```"
   ]
  },
  {
   "cell_type": "markdown",
   "id": "e74ce6b3-d700-4278-9c60-7d224427e12b",
   "metadata": {},
   "source": [
    "## Final Remarks\n",
    "Once you have followed all the above instructions, the task will run automatically.\n",
    "The LLM Agent will write the `DesignSpace` and run HEBO multiple times until the budget is exhausted.\n",
    "You can simply read the code in `workspace/hyperopt/code/best_code.py` to check the optimal hyperparameters found."
   ]
  },
  {
   "cell_type": "markdown",
   "id": "659e54d8-4a61-4f25-8df7-4d30b72a44a0",
   "metadata": {},
   "source": [
    "# Creating all files for you"
   ]
  },
  {
   "cell_type": "code",
   "execution_count": null,
   "id": "08cc7164-49bc-45f6-b3b6-1f466e9b5c0f",
   "metadata": {
    "is_executing": true
   },
   "outputs": [],
   "source": [
    "import os\n",
    "import pandas as pd\n",
    "import numpy as np\n",
    "# suppose all workspace is present in agent/tutorials/workspace/ then copy over files needed everywhere and remove them at the end\n",
    "cwd = os.getcwd()\n",
    "parentwd = os.path.dirname(cwd)\n",
    "print('current working dir', cwd)\n",
    "print('parent working dir', parentwd)"
   ]
  },
  {
   "cell_type": "code",
   "execution_count": null,
   "id": "333c167f-bd31-45ca-b3f6-fd17d072305b",
   "metadata": {
    "is_executing": true
   },
   "outputs": [],
   "source": [
    "# copy example workspace\n",
    "os.makedirs('../workspace/hyperopt', exist_ok=True)\n",
    "os.system(f'cp -r {cwd}/hyperopt_tutorial_files/hyperopt ../workspace/')"
   ]
  },
  {
   "cell_type": "code",
   "execution_count": null,
   "id": "405063c0-b415-4137-934c-0420c561581e",
   "metadata": {
    "is_executing": true
   },
   "outputs": [],
   "source": [
    "# coopy config files\n",
    "os.system(f'cp -r {cwd}/hyperopt_tutorial_files/deepseek-coder-7b-instruct-v1.5.yaml {parentwd}/configs/llm/fschat/deepseek-coder-7b-instruct-v1.5.yaml') \n",
    "os.system(f'cp -r {cwd}/hyperopt_tutorial_files/hyperopt_interact.yaml {parentwd}/configs/task/hyperopt_interact.yaml') \n",
    "os.system(f'cp -r {cwd}/hyperopt_tutorial_files/direct-hyperopt.yaml {parentwd}/configs/method/direct-hyperopt.yaml')\n"
   ]
  },
  {
   "cell_type": "code",
   "execution_count": null,
   "id": "6fd25378-4feb-4cc7-8d75-1c330a3fd3fd",
   "metadata": {
    "is_executing": true
   },
   "outputs": [],
   "source": [
    "# copy task and tool files\n",
    "os.system(f'cp -r {cwd}/hyperopt_tutorial_files/hyperopt.py {parentwd}/src/agent/tasks/hyperopt.py') \n",
    "os.system(f'cp -r {cwd}/hyperopt_tutorial_files/hyperopt_tool.py {parentwd}/src/agent/tools/hyperopt_tool.py')\n",
    "os.system(f'cp -r {cwd}/hyperopt_tutorial_files/hyperopt_utils.py {parentwd}/src/agent/utils/hyperopt_utils.py')"
   ]
  },
  {
   "cell_type": "code",
   "execution_count": null,
   "id": "cca4a7c7-4cf3-4b55-8945-05296a8f1b2f",
   "metadata": {
    "is_executing": true
   },
   "outputs": [],
   "source": [
    "# copy prompts\n",
    "os.makedirs('../src/agent/prompts/templates/hyperopt', exist_ok=True)\n",
    "os.system(f'cp -r {cwd}/hyperopt_tutorial_files/external_action.jinja {parentwd}/src/agent/prompts/templates/hyperopt/external_action.jinja') \n",
    "os.system(f'cp -r {cwd}/hyperopt_tutorial_files/flow_loop_continue.jinja {parentwd}/src/agent/prompts/templates/hyperopt/flow_loop_continue.jinja') \n",
    "os.system(f'cp -r {cwd}/hyperopt_tutorial_files/hyperopt.jinja {parentwd}/src/agent/prompts/templates/hyperopt/hyperopt.jinja') \n",
    "os.system(f'cp -r {cwd}/hyperopt_tutorial_files/system_prompt.jinja {parentwd}/src/agent/prompts/templates/hyperopt/system_prompt.jinja')"
   ]
  },
  {
   "cell_type": "code",
   "execution_count": null,
   "id": "06b111a0-9330-4d45-89ef-36cc46d8c7f4",
   "metadata": {
    "is_executing": true
   },
   "outputs": [],
   "source": [
    "# modiyfing UseTool Command\n",
    "with open(f'{parentwd}/src/agent/commands/core.py', 'r') as f:\n",
    "    original_core = f.read()\n",
    "\n",
    "with open(f'{cwd}/hyperopt_tutorial_files/core.py', 'r') as f:\n",
    "    modified_core = f.read()\n",
    "\n",
    "with open(f'{parentwd}/src/agent/commands/core.py', 'w') as f:\n",
    "    f.write(modified_core)\n",
    "    \n",
    "# adding keys to the memory\n",
    "with open(f'{parentwd}/src/agent/memory.py', 'r') as f:\n",
    "    original_memory = f.read()\n",
    "\n",
    "with open(f'{cwd}/hyperopt_tutorial_files/memory.py', 'r') as f:\n",
    "    modified_memory = f.read()\n",
    "\n",
    "with open(f'{parentwd}/src/agent/memory.py', 'w') as f:\n",
    "    f.write(modified_memory)"
   ]
  },
  {
   "cell_type": "markdown",
   "id": "86a55f08-25df-4f14-8cb6-c8ed010d754e",
   "metadata": {},
   "source": [
    "# Run Command"
   ]
  },
  {
   "cell_type": "markdown",
   "id": "03d91a09-e884-4822-a739-36ff703eb5e6",
   "metadata": {
    "scrolled": true
   },
   "source": [
    "```bash\n",
    "python -u src/agent/start.py task=hyperopt_interact llm@agent.llm=fschat/deepseek-coder-7b-instruct-v1.5 method=direct-hyperopt\n",
    "```"
   ]
  },
  {
   "cell_type": "markdown",
   "id": "5b3e4920-c225-4157-9c49-109e7410abc3",
   "metadata": {},
   "source": [
    "# Removing files for you"
   ]
  },
  {
   "cell_type": "code",
   "execution_count": null,
   "id": "10f9e448-933c-4ace-8290-2746023fa867",
   "metadata": {
    "is_executing": true
   },
   "outputs": [],
   "source": [
    "import os\n",
    "os.remove(f\"{parentwd}/configs/method/direct-hyperopt.yaml\")\n",
    "os.remove(f\"{parentwd}/configs/task/hyperopt_interact.yaml\")\n",
    "os.remove(f\"{parentwd}/configs/llm/fschat/deepseek-coder-7b-instruct-v1.5.yaml\")\n",
    "os.remove(f\"{parentwd}/src/agent/tasks/hyperopt.py\")\n",
    "os.remove(f\"{parentwd}/src/agent/tools/hyperopt_tool.py\")\n",
    "os.remove(f\"{parentwd}/src/agent/utils/hyperopt_utils.py\")\n",
    "os.remove(f\"{parentwd}/src/agent/prompts/templates/hyperopt/external_action.jinja\")\n",
    "os.remove(f\"{parentwd}/src/agent/prompts/templates/hyperopt/flow_loop_continue.jinja\")\n",
    "os.remove(f\"{parentwd}/src/agent/prompts/templates/hyperopt/hyperopt.jinja\")\n",
    "os.remove(f\"{parentwd}/src/agent/prompts/templates/hyperopt/system_prompt.jinja\")\n",
    "os.system(f\"rm -r {parentwd}/workspace/hyperopt/*\")\n",
    "\n",
    "with open(f'{parentwd}/src/agent/commands/core.py', 'w') as f:\n",
    "    f.write(original_core)\n",
    "\n",
    "with open(f'{parentwd}/src/agent/commands/memory.py', 'w') as f:\n",
    "    f.write(original_memory)"
   ]
  },
  {
   "cell_type": "code",
   "execution_count": null,
   "id": "b858702e-a3b5-4fe4-9656-ff0a70317879",
   "metadata": {},
   "outputs": [],
   "source": []
  }
 ],
 "metadata": {
  "kernelspec": {
   "display_name": "Python 3 (ipykernel)",
   "language": "python",
   "name": "python3"
  },
  "language_info": {
   "codemirror_mode": {
    "name": "ipython",
    "version": 3
   },
   "file_extension": ".py",
   "mimetype": "text/x-python",
   "name": "python",
   "nbconvert_exporter": "python",
   "pygments_lexer": "ipython3",
   "version": "3.10.13"
  }
 },
 "nbformat": 4,
 "nbformat_minor": 5
}
